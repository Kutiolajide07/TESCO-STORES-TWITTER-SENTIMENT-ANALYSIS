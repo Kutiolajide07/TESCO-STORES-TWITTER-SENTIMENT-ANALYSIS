{
  "nbformat": 4,
  "nbformat_minor": 0,
  "metadata": {
    "colab": {
      "name": "TESCO SENTIMENT ANALYSIS.ipynb",
      "provenance": [],
      "collapsed_sections": []
    },
    "kernelspec": {
      "name": "python3",
      "display_name": "Python 3"
    },
    "language_info": {
      "name": "python"
    }
  },
  "cells": [
    {
      "cell_type": "code",
      "execution_count": 2,
      "metadata": {
        "id": "y4IMZ5vC7hye"
      },
      "outputs": [],
      "source": [
        "import glob as gb\n",
        "import numpy as np\n",
        "import matplotlib.pyplot as plt\n",
        "import seaborn as sns\n",
        "import string\n",
        "import warnings\n",
        "import pandas as pd\n",
        "%matplotlib inline\n",
        "warnings.filterwarnings('ignore')\n",
        "\n",
        "import nest_asyncio\n",
        "nest_asyncio.apply()\n",
        "\n",
        "import re"
      ]
    },
    {
      "cell_type": "code",
      "source": [
        "!pip3 install -qq twint\n",
        "!pip install -qq whatthelang\n",
        "\n",
        "import twint"
      ],
      "metadata": {
        "colab": {
          "base_uri": "https://localhost:8080/"
        },
        "id": "dfYaP8pM8H8I",
        "outputId": "4a9510bd-d628-4399-8eb8-0cb57c41c422"
      },
      "execution_count": 3,
      "outputs": [
        {
          "output_type": "stream",
          "name": "stdout",
          "text": [
            "\u001b[K     |████████████████████████████████| 1.1 MB 12.1 MB/s \n",
            "\u001b[K     |████████████████████████████████| 263 kB 58.5 MB/s \n",
            "\u001b[K     |████████████████████████████████| 381 kB 55.9 MB/s \n",
            "\u001b[K     |████████████████████████████████| 291 kB 60.6 MB/s \n",
            "\u001b[K     |████████████████████████████████| 94 kB 3.9 MB/s \n",
            "\u001b[K     |████████████████████████████████| 144 kB 65.1 MB/s \n",
            "\u001b[K     |████████████████████████████████| 271 kB 56.5 MB/s \n",
            "\u001b[K     |████████████████████████████████| 49 kB 5.9 MB/s \n",
            "\u001b[K     |████████████████████████████████| 59 kB 6.8 MB/s \n",
            "\u001b[K     |████████████████████████████████| 138 kB 67.3 MB/s \n",
            "\u001b[K     |████████████████████████████████| 62 kB 1.4 MB/s \n",
            "\u001b[?25h  Building wheel for twint (setup.py) ... \u001b[?25l\u001b[?25hdone\n",
            "  Building wheel for fake-useragent (setup.py) ... \u001b[?25l\u001b[?25hdone\n",
            "  Building wheel for googletransx (setup.py) ... \u001b[?25l\u001b[?25hdone\n",
            "\u001b[31mERROR: pip's dependency resolver does not currently take into account all the packages that are installed. This behaviour is the source of the following dependency conflicts.\n",
            "google-colab 1.0.0 requires requests~=2.23.0, but you have requests 2.28.0 which is incompatible.\n",
            "datascience 0.10.6 requires folium==0.2.1, but you have folium 0.8.3 which is incompatible.\u001b[0m\n",
            "\u001b[K     |████████████████████████████████| 786 kB 8.4 MB/s \n",
            "\u001b[K     |████████████████████████████████| 871 kB 41.0 MB/s \n",
            "\u001b[K     |████████████████████████████████| 244 kB 45.7 MB/s \n",
            "\u001b[?25h  Building wheel for whatthelang (setup.py) ... \u001b[?25l\u001b[?25hdone\n",
            "  Building wheel for pyfasttext (setup.py) ... \u001b[?25l\u001b[?25hdone\n"
          ]
        }
      ]
    },
    {
      "cell_type": "code",
      "source": [
        "from textblob.sentiments import NaiveBayesAnalyzer\n",
        "from textblob import TextBlob\n",
        "import nltk\n",
        "nltk.download('vader_lexicon')\n",
        "from nltk.sentiment import SentimentIntensityAnalyzer"
      ],
      "metadata": {
        "colab": {
          "base_uri": "https://localhost:8080/"
        },
        "id": "yCtkiDSN7yHX",
        "outputId": "dfd7d4b4-90c5-45c0-a14c-48a70a08596d"
      },
      "execution_count": 4,
      "outputs": [
        {
          "output_type": "stream",
          "name": "stderr",
          "text": [
            "[nltk_data] Downloading package vader_lexicon to /root/nltk_data...\n"
          ]
        }
      ]
    },
    {
      "cell_type": "code",
      "source": [
        "!pip install polyglot"
      ],
      "metadata": {
        "colab": {
          "base_uri": "https://localhost:8080/"
        },
        "id": "hc1BdeSVGU6B",
        "outputId": "7e9612fe-31cb-470b-f1f6-224d440b402c"
      },
      "execution_count": 5,
      "outputs": [
        {
          "output_type": "stream",
          "name": "stdout",
          "text": [
            "Looking in indexes: https://pypi.org/simple, https://us-python.pkg.dev/colab-wheels/public/simple/\n",
            "Collecting polyglot\n",
            "  Downloading polyglot-16.7.4.tar.gz (126 kB)\n",
            "\u001b[K     |████████████████████████████████| 126 kB 8.0 MB/s \n",
            "\u001b[?25hBuilding wheels for collected packages: polyglot\n",
            "  Building wheel for polyglot (setup.py) ... \u001b[?25l\u001b[?25hdone\n",
            "  Created wheel for polyglot: filename=polyglot-16.7.4-py2.py3-none-any.whl size=52577 sha256=37327b04bcab553da2af84ac8664828530ec2c9724f99b5e369aead290463289\n",
            "  Stored in directory: /root/.cache/pip/wheels/09/bc/67/75c9de8e9726460bc0b101ad225ad025cb8ce9e0759beb9d52\n",
            "Successfully built polyglot\n",
            "Installing collected packages: polyglot\n",
            "Successfully installed polyglot-16.7.4\n"
          ]
        }
      ]
    },
    {
      "cell_type": "code",
      "source": [
        "!pip install PyICU"
      ],
      "metadata": {
        "colab": {
          "base_uri": "https://localhost:8080/"
        },
        "id": "r7TQfF8p9pvf",
        "outputId": "d8f83b64-2997-4b30-afab-0d37c41ab005"
      },
      "execution_count": 6,
      "outputs": [
        {
          "output_type": "stream",
          "name": "stdout",
          "text": [
            "Looking in indexes: https://pypi.org/simple, https://us-python.pkg.dev/colab-wheels/public/simple/\n",
            "Collecting PyICU\n",
            "  Downloading PyICU-2.9.tar.gz (305 kB)\n",
            "\u001b[K     |████████████████████████████████| 305 kB 9.8 MB/s \n",
            "\u001b[?25h  Installing build dependencies ... \u001b[?25l\u001b[?25hdone\n",
            "  Getting requirements to build wheel ... \u001b[?25l\u001b[?25hdone\n",
            "    Preparing wheel metadata ... \u001b[?25l\u001b[?25hdone\n",
            "Building wheels for collected packages: PyICU\n",
            "  Building wheel for PyICU (PEP 517) ... \u001b[?25l\u001b[?25hdone\n",
            "  Created wheel for PyICU: filename=PyICU-2.9-cp37-cp37m-linux_x86_64.whl size=1375697 sha256=3c8682bb1f05928d025637a846e21fc296c4e530deeca19eadd163bc5c904186\n",
            "  Stored in directory: /root/.cache/pip/wheels/28/88/93/6c1b06361e4cbd4e7f793fb456729f69798f9aa3fc2a791cd7\n",
            "Successfully built PyICU\n",
            "Installing collected packages: PyICU\n",
            "Successfully installed PyICU-2.9\n"
          ]
        }
      ]
    },
    {
      "cell_type": "code",
      "source": [
        "!pip install pycld2"
      ],
      "metadata": {
        "colab": {
          "base_uri": "https://localhost:8080/"
        },
        "id": "YRZB3cV5d3wz",
        "outputId": "064c52d5-0aa6-4a0d-f9cf-16f334fd37fe"
      },
      "execution_count": 7,
      "outputs": [
        {
          "output_type": "stream",
          "name": "stdout",
          "text": [
            "Looking in indexes: https://pypi.org/simple, https://us-python.pkg.dev/colab-wheels/public/simple/\n",
            "Collecting pycld2\n",
            "  Downloading pycld2-0.41.tar.gz (41.4 MB)\n",
            "\u001b[K     |████████████████████████████████| 41.4 MB 1.2 MB/s \n",
            "\u001b[?25hBuilding wheels for collected packages: pycld2\n",
            "  Building wheel for pycld2 (setup.py) ... \u001b[?25l\u001b[?25hdone\n",
            "  Created wheel for pycld2: filename=pycld2-0.41-cp37-cp37m-linux_x86_64.whl size=9834178 sha256=81942c86189633bd5727787404ee902ab2d09b2845031ac8fb8c5436a158dc41\n",
            "  Stored in directory: /root/.cache/pip/wheels/ed/e4/58/ed2e9f43c07d617cc81fe7aff0fc6e42b16c9cf6afe960b614\n",
            "Successfully built pycld2\n",
            "Installing collected packages: pycld2\n",
            "Successfully installed pycld2-0.41\n"
          ]
        }
      ]
    },
    {
      "cell_type": "code",
      "source": [
        "!pip install morfessor"
      ],
      "metadata": {
        "colab": {
          "base_uri": "https://localhost:8080/"
        },
        "id": "lVc3JUJ9d9vE",
        "outputId": "486e8cea-1b88-4f0b-f782-714f000b574a"
      },
      "execution_count": 8,
      "outputs": [
        {
          "output_type": "stream",
          "name": "stdout",
          "text": [
            "Looking in indexes: https://pypi.org/simple, https://us-python.pkg.dev/colab-wheels/public/simple/\n",
            "Collecting morfessor\n",
            "  Downloading Morfessor-2.0.6-py3-none-any.whl (35 kB)\n",
            "Installing collected packages: morfessor\n",
            "Successfully installed morfessor-2.0.6\n"
          ]
        }
      ]
    },
    {
      "cell_type": "code",
      "source": [
        "!pip install vader-multi"
      ],
      "metadata": {
        "colab": {
          "base_uri": "https://localhost:8080/"
        },
        "id": "KhA8o_KLd31q",
        "outputId": "7ea4ea40-8008-4f0b-da7e-f8fb9032fcaf"
      },
      "execution_count": 9,
      "outputs": [
        {
          "output_type": "stream",
          "name": "stdout",
          "text": [
            "Looking in indexes: https://pypi.org/simple, https://us-python.pkg.dev/colab-wheels/public/simple/\n",
            "Collecting vader-multi\n",
            "  Downloading vader_multi-3.2.2.1-py2.py3-none-any.whl (126 kB)\n",
            "\u001b[K     |████████████████████████████████| 126 kB 7.1 MB/s \n",
            "\u001b[?25hCollecting translatte\n",
            "  Downloading translatte-0.1-py3-none-any.whl (14 kB)\n",
            "Requirement already satisfied: requests in /usr/local/lib/python3.7/dist-packages (from vader-multi) (2.28.0)\n",
            "Requirement already satisfied: idna<4,>=2.5 in /usr/local/lib/python3.7/dist-packages (from requests->vader-multi) (2.10)\n",
            "Requirement already satisfied: certifi>=2017.4.17 in /usr/local/lib/python3.7/dist-packages (from requests->vader-multi) (2022.6.15)\n",
            "Requirement already satisfied: charset-normalizer~=2.0.0 in /usr/local/lib/python3.7/dist-packages (from requests->vader-multi) (2.0.12)\n",
            "Requirement already satisfied: urllib3<1.27,>=1.21.1 in /usr/local/lib/python3.7/dist-packages (from requests->vader-multi) (1.26.9)\n",
            "Installing collected packages: translatte, vader-multi\n",
            "Successfully installed translatte-0.1 vader-multi-3.2.2.1\n"
          ]
        }
      ]
    },
    {
      "cell_type": "code",
      "source": [
        "import polyglot\n",
        "from polyglot.text import Text, Word"
      ],
      "metadata": {
        "id": "K-ybgbl-jDzU"
      },
      "execution_count": 10,
      "outputs": []
    },
    {
      "cell_type": "code",
      "source": [
        "Tesco = pd.read_csv('/content/tescostores_tweets.csv')"
      ],
      "metadata": {
        "id": "2oRU1iJmAL9y"
      },
      "execution_count": 11,
      "outputs": []
    },
    {
      "cell_type": "code",
      "source": [
        "Tesco.shape"
      ],
      "metadata": {
        "colab": {
          "base_uri": "https://localhost:8080/"
        },
        "id": "UFJD7zdY-MQM",
        "outputId": "c47b573e-8944-4904-8d4b-f8c7e619e6a3"
      },
      "execution_count": 12,
      "outputs": [
        {
          "output_type": "execute_result",
          "data": {
            "text/plain": [
              "(32900, 36)"
            ]
          },
          "metadata": {},
          "execution_count": 12
        }
      ]
    },
    {
      "cell_type": "code",
      "source": [
        "# drop duplicate tweets\n",
        "Unique_Tesco = Tesco.drop_duplicates('tweet')\n",
        "Unique_Tesco.shape"
      ],
      "metadata": {
        "colab": {
          "base_uri": "https://localhost:8080/"
        },
        "id": "s0wQSwWx1_CJ",
        "outputId": "192eea4a-9e74-4c52-acf3-eeb342b36cdf"
      },
      "execution_count": 13,
      "outputs": [
        {
          "output_type": "execute_result",
          "data": {
            "text/plain": [
              "(19682, 36)"
            ]
          },
          "metadata": {},
          "execution_count": 13
        }
      ]
    },
    {
      "cell_type": "markdown",
      "source": [
        "Sentiment Analysis using Rule based approach"
      ],
      "metadata": {
        "id": "_H5Jf6LZ4Q-U"
      }
    },
    {
      "cell_type": "code",
      "source": [
        "Unique_Tesco.columns"
      ],
      "metadata": {
        "colab": {
          "base_uri": "https://localhost:8080/"
        },
        "id": "zs5HeVjk5Ojw",
        "outputId": "e3215003-ce53-4812-e780-77ca2d874e84"
      },
      "execution_count": 14,
      "outputs": [
        {
          "output_type": "execute_result",
          "data": {
            "text/plain": [
              "Index(['id', 'conversation_id', 'created_at', 'date', 'time', 'timezone',\n",
              "       'user_id', 'username', 'name', 'place', 'tweet', 'language', 'mentions',\n",
              "       'urls', 'photos', 'replies_count', 'retweets_count', 'likes_count',\n",
              "       'hashtags', 'cashtags', 'link', 'retweet', 'quote_url', 'video',\n",
              "       'thumbnail', 'near', 'geo', 'source', 'user_rt_id', 'user_rt',\n",
              "       'retweet_id', 'reply_to', 'retweet_date', 'translate', 'trans_src',\n",
              "       'trans_dest'],\n",
              "      dtype='object')"
            ]
          },
          "metadata": {},
          "execution_count": 14
        }
      ]
    },
    {
      "cell_type": "code",
      "source": [
        "Unique_Tesco.hashtags"
      ],
      "metadata": {
        "colab": {
          "base_uri": "https://localhost:8080/"
        },
        "id": "FBqyprea5Tg1",
        "outputId": "13a2940d-7571-4a88-d7c3-67bb8ba8c95f"
      },
      "execution_count": 15,
      "outputs": [
        {
          "output_type": "execute_result",
          "data": {
            "text/plain": [
              "0                                   ['nothingsstoppingus']\n",
              "2                                   ['nothingsstoppingus']\n",
              "3                                                       []\n",
              "5                                                       []\n",
              "6                                                       []\n",
              "                               ...                        \n",
              "32895                                                   []\n",
              "32896                                                   []\n",
              "32897                                                   []\n",
              "32898                                                   []\n",
              "32899    ['costcutting', 'cutbacks', 'poorcustomerexper...\n",
              "Name: hashtags, Length: 19682, dtype: object"
            ]
          },
          "metadata": {},
          "execution_count": 15
        }
      ]
    },
    {
      "cell_type": "code",
      "source": [
        "# put only hashtags in front of the tweets\n",
        "\n",
        "Unique_Tesco.hashtags = Unique_Tesco.hashtags.map(lambda x: eval(x))\\\n",
        ".map(lambda x: ['#' + tag for tag in x])\n"
      ],
      "metadata": {
        "id": "j0BV2i1b5e5t"
      },
      "execution_count": 16,
      "outputs": []
    },
    {
      "cell_type": "code",
      "source": [
        "Tesco_Tweets =Unique_Tesco[['tweet', 'hashtags']].reset_index(drop=True)"
      ],
      "metadata": {
        "id": "L1kp3Ao77ppr"
      },
      "execution_count": 17,
      "outputs": []
    },
    {
      "cell_type": "code",
      "source": [
        "Tesco_Tweets.head(10)"
      ],
      "metadata": {
        "colab": {
          "base_uri": "https://localhost:8080/",
          "height": 363
        },
        "id": "vzZ4NtIj7DD8",
        "outputId": "d36bf104-4612-4ad9-959c-c57ef805dd3e"
      },
      "execution_count": 18,
      "outputs": [
        {
          "output_type": "execute_result",
          "data": {
            "text/plain": [
              "                                               tweet               hashtags\n",
              "0                         @Tesco #NothingsStoppingUs  [#nothingsstoppingus]\n",
              "1                        @Tesco #NothingsStoppingUs.  [#nothingsstoppingus]\n",
              "2  @kenneth80376479 @Rosiecat2 @afneil If you thi...                     []\n",
              "3  @lowRedPhoto @DrRosena I think Tesco still has...                     []\n",
              "4  @saderotica Tesco is the shit, except all of t...                     []\n",
              "5                       @Tesco #NothingsStoppingUs 🎉  [#nothingsstoppingus]\n",
              "6  A truly mad year! Started it working PT for Te...                     []\n",
              "7  Hopefully 2022 is the year we accept a trip to...                     []\n",
              "8       @Tesco #NothingsStoppingUs.Happy New Year!!!  [#nothingsstoppingus]\n",
              "9  @ebelfastmum @BeebsyMcA I used to be \"only nol...                     []"
            ],
            "text/html": [
              "\n",
              "  <div id=\"df-0b3c539c-27bf-4da2-9765-b97f7dcab2b8\">\n",
              "    <div class=\"colab-df-container\">\n",
              "      <div>\n",
              "<style scoped>\n",
              "    .dataframe tbody tr th:only-of-type {\n",
              "        vertical-align: middle;\n",
              "    }\n",
              "\n",
              "    .dataframe tbody tr th {\n",
              "        vertical-align: top;\n",
              "    }\n",
              "\n",
              "    .dataframe thead th {\n",
              "        text-align: right;\n",
              "    }\n",
              "</style>\n",
              "<table border=\"1\" class=\"dataframe\">\n",
              "  <thead>\n",
              "    <tr style=\"text-align: right;\">\n",
              "      <th></th>\n",
              "      <th>tweet</th>\n",
              "      <th>hashtags</th>\n",
              "    </tr>\n",
              "  </thead>\n",
              "  <tbody>\n",
              "    <tr>\n",
              "      <th>0</th>\n",
              "      <td>@Tesco #NothingsStoppingUs</td>\n",
              "      <td>[#nothingsstoppingus]</td>\n",
              "    </tr>\n",
              "    <tr>\n",
              "      <th>1</th>\n",
              "      <td>@Tesco #NothingsStoppingUs.</td>\n",
              "      <td>[#nothingsstoppingus]</td>\n",
              "    </tr>\n",
              "    <tr>\n",
              "      <th>2</th>\n",
              "      <td>@kenneth80376479 @Rosiecat2 @afneil If you thi...</td>\n",
              "      <td>[]</td>\n",
              "    </tr>\n",
              "    <tr>\n",
              "      <th>3</th>\n",
              "      <td>@lowRedPhoto @DrRosena I think Tesco still has...</td>\n",
              "      <td>[]</td>\n",
              "    </tr>\n",
              "    <tr>\n",
              "      <th>4</th>\n",
              "      <td>@saderotica Tesco is the shit, except all of t...</td>\n",
              "      <td>[]</td>\n",
              "    </tr>\n",
              "    <tr>\n",
              "      <th>5</th>\n",
              "      <td>@Tesco #NothingsStoppingUs 🎉</td>\n",
              "      <td>[#nothingsstoppingus]</td>\n",
              "    </tr>\n",
              "    <tr>\n",
              "      <th>6</th>\n",
              "      <td>A truly mad year! Started it working PT for Te...</td>\n",
              "      <td>[]</td>\n",
              "    </tr>\n",
              "    <tr>\n",
              "      <th>7</th>\n",
              "      <td>Hopefully 2022 is the year we accept a trip to...</td>\n",
              "      <td>[]</td>\n",
              "    </tr>\n",
              "    <tr>\n",
              "      <th>8</th>\n",
              "      <td>@Tesco #NothingsStoppingUs.Happy New Year!!!</td>\n",
              "      <td>[#nothingsstoppingus]</td>\n",
              "    </tr>\n",
              "    <tr>\n",
              "      <th>9</th>\n",
              "      <td>@ebelfastmum @BeebsyMcA I used to be \"only nol...</td>\n",
              "      <td>[]</td>\n",
              "    </tr>\n",
              "  </tbody>\n",
              "</table>\n",
              "</div>\n",
              "      <button class=\"colab-df-convert\" onclick=\"convertToInteractive('df-0b3c539c-27bf-4da2-9765-b97f7dcab2b8')\"\n",
              "              title=\"Convert this dataframe to an interactive table.\"\n",
              "              style=\"display:none;\">\n",
              "        \n",
              "  <svg xmlns=\"http://www.w3.org/2000/svg\" height=\"24px\"viewBox=\"0 0 24 24\"\n",
              "       width=\"24px\">\n",
              "    <path d=\"M0 0h24v24H0V0z\" fill=\"none\"/>\n",
              "    <path d=\"M18.56 5.44l.94 2.06.94-2.06 2.06-.94-2.06-.94-.94-2.06-.94 2.06-2.06.94zm-11 1L8.5 8.5l.94-2.06 2.06-.94-2.06-.94L8.5 2.5l-.94 2.06-2.06.94zm10 10l.94 2.06.94-2.06 2.06-.94-2.06-.94-.94-2.06-.94 2.06-2.06.94z\"/><path d=\"M17.41 7.96l-1.37-1.37c-.4-.4-.92-.59-1.43-.59-.52 0-1.04.2-1.43.59L10.3 9.45l-7.72 7.72c-.78.78-.78 2.05 0 2.83L4 21.41c.39.39.9.59 1.41.59.51 0 1.02-.2 1.41-.59l7.78-7.78 2.81-2.81c.8-.78.8-2.07 0-2.86zM5.41 20L4 18.59l7.72-7.72 1.47 1.35L5.41 20z\"/>\n",
              "  </svg>\n",
              "      </button>\n",
              "      \n",
              "  <style>\n",
              "    .colab-df-container {\n",
              "      display:flex;\n",
              "      flex-wrap:wrap;\n",
              "      gap: 12px;\n",
              "    }\n",
              "\n",
              "    .colab-df-convert {\n",
              "      background-color: #E8F0FE;\n",
              "      border: none;\n",
              "      border-radius: 50%;\n",
              "      cursor: pointer;\n",
              "      display: none;\n",
              "      fill: #1967D2;\n",
              "      height: 32px;\n",
              "      padding: 0 0 0 0;\n",
              "      width: 32px;\n",
              "    }\n",
              "\n",
              "    .colab-df-convert:hover {\n",
              "      background-color: #E2EBFA;\n",
              "      box-shadow: 0px 1px 2px rgba(60, 64, 67, 0.3), 0px 1px 3px 1px rgba(60, 64, 67, 0.15);\n",
              "      fill: #174EA6;\n",
              "    }\n",
              "\n",
              "    [theme=dark] .colab-df-convert {\n",
              "      background-color: #3B4455;\n",
              "      fill: #D2E3FC;\n",
              "    }\n",
              "\n",
              "    [theme=dark] .colab-df-convert:hover {\n",
              "      background-color: #434B5C;\n",
              "      box-shadow: 0px 1px 3px 1px rgba(0, 0, 0, 0.15);\n",
              "      filter: drop-shadow(0px 1px 2px rgba(0, 0, 0, 0.3));\n",
              "      fill: #FFFFFF;\n",
              "    }\n",
              "  </style>\n",
              "\n",
              "      <script>\n",
              "        const buttonEl =\n",
              "          document.querySelector('#df-0b3c539c-27bf-4da2-9765-b97f7dcab2b8 button.colab-df-convert');\n",
              "        buttonEl.style.display =\n",
              "          google.colab.kernel.accessAllowed ? 'block' : 'none';\n",
              "\n",
              "        async function convertToInteractive(key) {\n",
              "          const element = document.querySelector('#df-0b3c539c-27bf-4da2-9765-b97f7dcab2b8');\n",
              "          const dataTable =\n",
              "            await google.colab.kernel.invokeFunction('convertToInteractive',\n",
              "                                                     [key], {});\n",
              "          if (!dataTable) return;\n",
              "\n",
              "          const docLinkHtml = 'Like what you see? Visit the ' +\n",
              "            '<a target=\"_blank\" href=https://colab.research.google.com/notebooks/data_table.ipynb>data table notebook</a>'\n",
              "            + ' to learn more about interactive tables.';\n",
              "          element.innerHTML = '';\n",
              "          dataTable['output_type'] = 'display_data';\n",
              "          await google.colab.output.renderOutput(dataTable, element);\n",
              "          const docLink = document.createElement('div');\n",
              "          docLink.innerHTML = docLinkHtml;\n",
              "          element.appendChild(docLink);\n",
              "        }\n",
              "      </script>\n",
              "    </div>\n",
              "  </div>\n",
              "  "
            ]
          },
          "metadata": {},
          "execution_count": 18
        }
      ]
    },
    {
      "cell_type": "markdown",
      "source": [
        "Before cleaning"
      ],
      "metadata": {
        "id": "PPCs4SoMjAh5"
      }
    },
    {
      "cell_type": "code",
      "source": [
        "print(Tesco_Tweets.head().iloc[3][0]); print(Tesco_Tweets.head().iloc[3][1])"
      ],
      "metadata": {
        "colab": {
          "base_uri": "https://localhost:8080/"
        },
        "id": "wLpr3v5piJzn",
        "outputId": "2d4d76d0-5c90-4648-dd9d-720f8605118d"
      },
      "execution_count": 19,
      "outputs": [
        {
          "output_type": "stream",
          "name": "stdout",
          "text": [
            "@lowRedPhoto @DrRosena I think Tesco still has some but they are closed today\n",
            "[]\n"
          ]
        }
      ]
    },
    {
      "cell_type": "code",
      "source": [
        "print('10 randomly selected Tweets Before cleaning:')\n",
        "print('=============')\n",
        "print(Tesco_Tweets['tweet'][1])\n",
        "print(Tesco_Tweets['tweet'][13])\n",
        "print(Tesco_Tweets['tweet'][2600])\n",
        "print(Tesco_Tweets['tweet'][18])\n",
        "print(Tesco_Tweets['tweet'][1500])\n",
        "print(Tesco_Tweets['tweet'][5000])\n",
        "print(Tesco_Tweets['tweet'][36])\n",
        "print(Tesco_Tweets['tweet'][11350])\n",
        "print(Tesco_Tweets['tweet'][1346])\n",
        "print(Tesco_Tweets['tweet'][35])"
      ],
      "metadata": {
        "colab": {
          "base_uri": "https://localhost:8080/"
        },
        "id": "PbnSIlbjjfOb",
        "outputId": "f5c00471-4849-4d03-c4d9-906389fe15c9"
      },
      "execution_count": 20,
      "outputs": [
        {
          "output_type": "stream",
          "name": "stdout",
          "text": [
            "10 randomly selected Tweets Before cleaning:\n",
            "=============\n",
            "@Tesco #NothingsStoppingUs.\n",
            "I accidentally smashed a bottle of vodka in Tesco earlier, happy new year everyone 🎉\n",
            "@quirkyantiques @Tesco I’ll give that a go, thanks!\n",
            "@CharlieL28 @Tesco New alternative meat content.\n",
            "Having some friends over for. Father’s Day BBQ. Husband went to get a click and collect from @Tesco. Was waiting an hour in the car park - only to be told it would be another hour … not the most fun place for him to spend the day …\n",
            "Just been to @Tesco Extra in Doncaster, no fridges or freezers working, no staff on checkouts, no fuel, what’s the point?\n",
            "Hey @Tesco, as you plan the year ahead at today’s AGM, I hope that you’re prioritising ending the cruel use of FrankenChickens in your supply chain. #EveryLittleHelps\n",
            "@Tesco I called you’re customers services on Monday 13.06.22 as our delivery driver has caused damage to our dropped pavementWe have this clearly shown on our CCTV. I was assured the store manager would call me but he hasn’t. Can someone chase this up\n",
            "@MsZYounis1 @AldiUK @Tesco 😂🙌🏼\n",
            "@masiepeters wasn’t me I fell to my knees in tesco\n"
          ]
        }
      ]
    },
    {
      "cell_type": "code",
      "source": [
        "before_cleaning = Tesco_Tweets.copy()"
      ],
      "metadata": {
        "id": "ckYNK377kNp1"
      },
      "execution_count": 21,
      "outputs": []
    },
    {
      "cell_type": "markdown",
      "source": [
        "##Data Cleaning with Regular Expression"
      ],
      "metadata": {
        "id": "xGNGSgF8kAET"
      }
    },
    {
      "cell_type": "code",
      "source": [
        "Tesco_Tweets.tweet = Tesco_Tweets.tweet.map(lambda x: re.sub(r\"http\\S+\", '', x))\\\n",
        ".map(lambda x: re.sub(r\"@\\S+\", '', x))\\\n",
        ".map(lambda x: x.lower())\n",
        "\n",
        "Tesco_Tweets['tweet'] = Tesco_Tweets.apply(lambda x: [word for word in x['tweet'].split() if word not in x['hashtags']], axis =1)\\\n",
        ".map(lambda x: ' '.join(x))\n",
        "\n",
        "Tesco_Tweets = Tesco_Tweets.drop(columns = ['hashtags'])"
      ],
      "metadata": {
        "id": "U_y27lMI81VW"
      },
      "execution_count": 22,
      "outputs": []
    },
    {
      "cell_type": "code",
      "source": [
        "print('10 randomly selected Tweets After Ceaning:')\n",
        "print('=============')\n",
        "print(Tesco_Tweets['tweet'][1])\n",
        "print(Tesco_Tweets['tweet'][13])\n",
        "print(Tesco_Tweets['tweet'][2600])\n",
        "print(Tesco_Tweets['tweet'][18])\n",
        "print(Tesco_Tweets['tweet'][1500])\n",
        "print(Tesco_Tweets['tweet'][5000])\n",
        "print(Tesco_Tweets['tweet'][36])\n",
        "print(Tesco_Tweets['tweet'][11350])\n",
        "print(Tesco_Tweets['tweet'][1346])\n",
        "print(Tesco_Tweets['tweet'][35])"
      ],
      "metadata": {
        "colab": {
          "base_uri": "https://localhost:8080/"
        },
        "id": "DY9zxS3yBVVQ",
        "outputId": "4369afd8-e652-44e4-9ead-5906a194a94b"
      },
      "execution_count": 23,
      "outputs": [
        {
          "output_type": "stream",
          "name": "stdout",
          "text": [
            "10 randomly selected Tweets After Ceaning:\n",
            "=============\n",
            "#nothingsstoppingus.\n",
            "i accidentally smashed a bottle of vodka in tesco earlier, happy new year everyone 🎉\n",
            "i’ll give that a go, thanks!\n",
            "new alternative meat content.\n",
            "having some friends over for. father’s day bbq. husband went to get a click and collect from was waiting an hour in the car park - only to be told it would be another hour … not the most fun place for him to spend the day …\n",
            "just been to extra in doncaster, no fridges or freezers working, no staff on checkouts, no fuel, what’s the point?\n",
            "hey as you plan the year ahead at today’s agm, i hope that you’re prioritising ending the cruel use of frankenchickens in your supply chain.\n",
            "i called you’re customers services on monday 13.06.22 as our delivery driver has caused damage to our dropped pavementwe have this clearly shown on our cctv. i was assured the store manager would call me but he hasn’t. can someone chase this up\n",
            "😂🙌🏼\n",
            "wasn’t me i fell to my knees in tesco\n"
          ]
        }
      ]
    },
    {
      "cell_type": "markdown",
      "source": [
        "##Write Sentiment Functions"
      ],
      "metadata": {
        "id": "qwkdK6kJCE3n"
      }
    },
    {
      "cell_type": "code",
      "source": [
        "polarity = lambda tweet: TextBlob(tweet).sentiment.polarity\n",
        "subjectivity = lambda tweet: TextBlob(tweet).sentiment.subjectivity  "
      ],
      "metadata": {
        "id": "JQ_NHYpxlIf6"
      },
      "execution_count": 24,
      "outputs": []
    },
    {
      "cell_type": "code",
      "source": [
        "Tesco_Tweets.loc[:, 'polarity'] = Tesco_Tweets['tweet'].apply(polarity)\n",
        "Tesco_Tweets.loc[:, 'subjectivity'] = Tesco_Tweets['tweet'].apply(subjectivity)"
      ],
      "metadata": {
        "id": "ifGyqlWElIYP"
      },
      "execution_count": 25,
      "outputs": []
    },
    {
      "cell_type": "code",
      "source": [
        "Tesco_Tweets.head()"
      ],
      "metadata": {
        "colab": {
          "base_uri": "https://localhost:8080/",
          "height": 206
        },
        "id": "AK8bflsJlIU-",
        "outputId": "47b8b573-57c7-4667-9f8f-8e9210ab2532"
      },
      "execution_count": 26,
      "outputs": [
        {
          "output_type": "execute_result",
          "data": {
            "text/plain": [
              "                                               tweet  polarity  subjectivity\n",
              "0                                                     0.000000      0.000000\n",
              "1                               #nothingsstoppingus.  0.000000      0.000000\n",
              "2  if you think of the world as a collection of s...  0.211111      0.711111\n",
              "3  i think tesco still has some but they are clos... -0.100000      0.100000\n",
              "4  tesco is the shit, except all of their sandwic... -0.350000      0.900000"
            ],
            "text/html": [
              "\n",
              "  <div id=\"df-faf6e6f2-d45d-436c-9965-fd9b3894e608\">\n",
              "    <div class=\"colab-df-container\">\n",
              "      <div>\n",
              "<style scoped>\n",
              "    .dataframe tbody tr th:only-of-type {\n",
              "        vertical-align: middle;\n",
              "    }\n",
              "\n",
              "    .dataframe tbody tr th {\n",
              "        vertical-align: top;\n",
              "    }\n",
              "\n",
              "    .dataframe thead th {\n",
              "        text-align: right;\n",
              "    }\n",
              "</style>\n",
              "<table border=\"1\" class=\"dataframe\">\n",
              "  <thead>\n",
              "    <tr style=\"text-align: right;\">\n",
              "      <th></th>\n",
              "      <th>tweet</th>\n",
              "      <th>polarity</th>\n",
              "      <th>subjectivity</th>\n",
              "    </tr>\n",
              "  </thead>\n",
              "  <tbody>\n",
              "    <tr>\n",
              "      <th>0</th>\n",
              "      <td></td>\n",
              "      <td>0.000000</td>\n",
              "      <td>0.000000</td>\n",
              "    </tr>\n",
              "    <tr>\n",
              "      <th>1</th>\n",
              "      <td>#nothingsstoppingus.</td>\n",
              "      <td>0.000000</td>\n",
              "      <td>0.000000</td>\n",
              "    </tr>\n",
              "    <tr>\n",
              "      <th>2</th>\n",
              "      <td>if you think of the world as a collection of s...</td>\n",
              "      <td>0.211111</td>\n",
              "      <td>0.711111</td>\n",
              "    </tr>\n",
              "    <tr>\n",
              "      <th>3</th>\n",
              "      <td>i think tesco still has some but they are clos...</td>\n",
              "      <td>-0.100000</td>\n",
              "      <td>0.100000</td>\n",
              "    </tr>\n",
              "    <tr>\n",
              "      <th>4</th>\n",
              "      <td>tesco is the shit, except all of their sandwic...</td>\n",
              "      <td>-0.350000</td>\n",
              "      <td>0.900000</td>\n",
              "    </tr>\n",
              "  </tbody>\n",
              "</table>\n",
              "</div>\n",
              "      <button class=\"colab-df-convert\" onclick=\"convertToInteractive('df-faf6e6f2-d45d-436c-9965-fd9b3894e608')\"\n",
              "              title=\"Convert this dataframe to an interactive table.\"\n",
              "              style=\"display:none;\">\n",
              "        \n",
              "  <svg xmlns=\"http://www.w3.org/2000/svg\" height=\"24px\"viewBox=\"0 0 24 24\"\n",
              "       width=\"24px\">\n",
              "    <path d=\"M0 0h24v24H0V0z\" fill=\"none\"/>\n",
              "    <path d=\"M18.56 5.44l.94 2.06.94-2.06 2.06-.94-2.06-.94-.94-2.06-.94 2.06-2.06.94zm-11 1L8.5 8.5l.94-2.06 2.06-.94-2.06-.94L8.5 2.5l-.94 2.06-2.06.94zm10 10l.94 2.06.94-2.06 2.06-.94-2.06-.94-.94-2.06-.94 2.06-2.06.94z\"/><path d=\"M17.41 7.96l-1.37-1.37c-.4-.4-.92-.59-1.43-.59-.52 0-1.04.2-1.43.59L10.3 9.45l-7.72 7.72c-.78.78-.78 2.05 0 2.83L4 21.41c.39.39.9.59 1.41.59.51 0 1.02-.2 1.41-.59l7.78-7.78 2.81-2.81c.8-.78.8-2.07 0-2.86zM5.41 20L4 18.59l7.72-7.72 1.47 1.35L5.41 20z\"/>\n",
              "  </svg>\n",
              "      </button>\n",
              "      \n",
              "  <style>\n",
              "    .colab-df-container {\n",
              "      display:flex;\n",
              "      flex-wrap:wrap;\n",
              "      gap: 12px;\n",
              "    }\n",
              "\n",
              "    .colab-df-convert {\n",
              "      background-color: #E8F0FE;\n",
              "      border: none;\n",
              "      border-radius: 50%;\n",
              "      cursor: pointer;\n",
              "      display: none;\n",
              "      fill: #1967D2;\n",
              "      height: 32px;\n",
              "      padding: 0 0 0 0;\n",
              "      width: 32px;\n",
              "    }\n",
              "\n",
              "    .colab-df-convert:hover {\n",
              "      background-color: #E2EBFA;\n",
              "      box-shadow: 0px 1px 2px rgba(60, 64, 67, 0.3), 0px 1px 3px 1px rgba(60, 64, 67, 0.15);\n",
              "      fill: #174EA6;\n",
              "    }\n",
              "\n",
              "    [theme=dark] .colab-df-convert {\n",
              "      background-color: #3B4455;\n",
              "      fill: #D2E3FC;\n",
              "    }\n",
              "\n",
              "    [theme=dark] .colab-df-convert:hover {\n",
              "      background-color: #434B5C;\n",
              "      box-shadow: 0px 1px 3px 1px rgba(0, 0, 0, 0.15);\n",
              "      filter: drop-shadow(0px 1px 2px rgba(0, 0, 0, 0.3));\n",
              "      fill: #FFFFFF;\n",
              "    }\n",
              "  </style>\n",
              "\n",
              "      <script>\n",
              "        const buttonEl =\n",
              "          document.querySelector('#df-faf6e6f2-d45d-436c-9965-fd9b3894e608 button.colab-df-convert');\n",
              "        buttonEl.style.display =\n",
              "          google.colab.kernel.accessAllowed ? 'block' : 'none';\n",
              "\n",
              "        async function convertToInteractive(key) {\n",
              "          const element = document.querySelector('#df-faf6e6f2-d45d-436c-9965-fd9b3894e608');\n",
              "          const dataTable =\n",
              "            await google.colab.kernel.invokeFunction('convertToInteractive',\n",
              "                                                     [key], {});\n",
              "          if (!dataTable) return;\n",
              "\n",
              "          const docLinkHtml = 'Like what you see? Visit the ' +\n",
              "            '<a target=\"_blank\" href=https://colab.research.google.com/notebooks/data_table.ipynb>data table notebook</a>'\n",
              "            + ' to learn more about interactive tables.';\n",
              "          element.innerHTML = '';\n",
              "          dataTable['output_type'] = 'display_data';\n",
              "          await google.colab.output.renderOutput(dataTable, element);\n",
              "          const docLink = document.createElement('div');\n",
              "          docLink.innerHTML = docLinkHtml;\n",
              "          element.appendChild(docLink);\n",
              "        }\n",
              "      </script>\n",
              "    </div>\n",
              "  </div>\n",
              "  "
            ]
          },
          "metadata": {},
          "execution_count": 26
        }
      ]
    },
    {
      "cell_type": "markdown",
      "source": [
        "#Sentiment Classifcation"
      ],
      "metadata": {
        "id": "XLwGvUm3mUj4"
      }
    },
    {
      "cell_type": "code",
      "source": [
        "Tesco_Tweets['classification'] = np.zeros(Tesco_Tweets.shape[0])\n",
        "Tesco_Tweets['classification'] = np.where(Tesco_Tweets['polarity'] >=0.05, 'positive', Tesco_Tweets['classification'])\n",
        "Tesco_Tweets['classification'] = np.where(Tesco_Tweets['polarity'] <=-0.05, 'negative', Tesco_Tweets['classification'])\n",
        "Tesco_Tweets['classification'] = np.where((Tesco_Tweets['polarity'] < 0.05) & (Tesco_Tweets['polarity'] > -0.05), 'neutral', Tesco_Tweets['classification'])"
      ],
      "metadata": {
        "id": "njht3BsXlISO"
      },
      "execution_count": 27,
      "outputs": []
    },
    {
      "cell_type": "code",
      "source": [
        "print(Tesco_Tweets[Tesco_Tweets.classification == 'positive'].reset_index()['tweet'][130])\n",
        "print(Tesco_Tweets[Tesco_Tweets.classification == 'positive'].reset_index()['tweet'][511])\n",
        "print(Tesco_Tweets[Tesco_Tweets.classification == 'positive'].reset_index()['tweet'][1873])\n",
        "print(Tesco_Tweets[Tesco_Tweets.classification == 'positive'].reset_index()['tweet'][385])\n",
        "print(Tesco_Tweets[Tesco_Tweets.classification == 'positive'].reset_index()['tweet'][428])"
      ],
      "metadata": {
        "colab": {
          "base_uri": "https://localhost:8080/"
        },
        "id": "jENOelSQoRNL",
        "outputId": "b3586d0f-4c3f-4a93-c25f-367e58b5945b"
      },
      "execution_count": 28,
      "outputs": [
        {
          "output_type": "stream",
          "name": "stdout",
          "text": [
            "why does it take aldi to have better prices for you to lower yours? big mistake promoting aldi prices as it is giving them free advertising.\n",
            "tesco are flogging peaky blinders themed cards.\n",
            "livestream \"no ethics at number 10\", tories take on rail workers! tesco hit by cost of living! maximilien robespierre live #gtfto!\n",
            "special offers. waves car wash. tesco extra hanley. stoke-on-trent. autoglym @ waves car wash\n",
            "tesco mobile is the latest mobile network to abolish free roaming across the eu for new customers, as providers take advantage of brexit to charge customers steep fees for calls and data. another brexit bonus.\n"
          ]
        }
      ]
    },
    {
      "cell_type": "code",
      "source": [
        "print(Tesco_Tweets[Tesco_Tweets.classification == 'negative'].reset_index()['tweet'][13])\n",
        "print(Tesco_Tweets[Tesco_Tweets.classification == 'negative'].reset_index()['tweet'][581])\n",
        "print(Tesco_Tweets[Tesco_Tweets.classification == 'negative'].reset_index()['tweet'][3373])\n",
        "print(Tesco_Tweets[Tesco_Tweets.classification == 'negative'].reset_index()['tweet'][500])\n",
        "print(Tesco_Tweets[Tesco_Tweets.classification == 'negative'].reset_index()['tweet'][728])"
      ],
      "metadata": {
        "colab": {
          "base_uri": "https://localhost:8080/"
        },
        "id": "g0SgCJs-ovAS",
        "outputId": "1c2bd0ac-9062-4bb4-bfc0-c23efddba309"
      },
      "execution_count": 29,
      "outputs": [
        {
          "output_type": "stream",
          "name": "stdout",
          "text": [
            "tesco scam warning: hotmail and gmail users put on alert about fake gift card emails - express\n",
            "in today's issue: tesco customers feeling squeezed and buying less revlon files for bankruptcy after 90 years in business\n",
            "it’s time price discrimination was made illegal.\n",
            "shitty tesco tomatoes and cucumber with black pepper and salt.\n",
            "i hate doing car insurance quotes and then sorting out cancelling of policies. looking at car insurance today and saw this little note about not doing an auto renewal. conversely, i've got 50 questions to answer to cancel my insurance with admiral 😡\n"
          ]
        }
      ]
    },
    {
      "cell_type": "code",
      "source": [
        "print(Tesco_Tweets[Tesco_Tweets.classification == 'negative'].reset_index()['tweet'][35])\n",
        "print(Tesco_Tweets[Tesco_Tweets.classification == 'negative'].reset_index()['tweet'][2200])\n",
        "print(Tesco_Tweets[Tesco_Tweets.classification == 'negative'].reset_index()['tweet'][1000])\n",
        "print(Tesco_Tweets[Tesco_Tweets.classification == 'negative'].reset_index()['tweet'][2500])\n",
        "print(Tesco_Tweets[Tesco_Tweets.classification == 'negative'].reset_index()['tweet'][800])"
      ],
      "metadata": {
        "colab": {
          "base_uri": "https://localhost:8080/"
        },
        "id": "FtKBvkzcpRzd",
        "outputId": "798d1d2a-5874-49c3-8d0d-f5ed590c733f"
      },
      "execution_count": 30,
      "outputs": [
        {
          "output_type": "stream",
          "name": "stdout",
          "text": [
            "when you’re standing in tesco’s in the chocolate section for about half an hour trying to pick your next chocolate for your morning oats 😂 🤦🏼‍♀️\n",
            "1 tesco: 03 towers of 132 kv tal-3 transmission line have damaged at 17:40 hrs on 14.06.2022hrsy due to heavy windstorm.\n",
            "my dad deserves a treat. he is in and out of hospital and loves a bbq and a few beers.\n",
            "i know it's late and it's cold outside and i'm way too tired to cycle and i have desserts at home, but i have a craving for puff pastry and i'm wondering whether it's worth cycling out to the 24hr tesco's three miles out of town to buy some and make a tart.\n",
            "moment tesco worker reacts to his favourite customer’s pregnancy is seriously heartwarming\n"
          ]
        }
      ]
    },
    {
      "cell_type": "code",
      "source": [
        "Tesco_Tweets.head()"
      ],
      "metadata": {
        "colab": {
          "base_uri": "https://localhost:8080/",
          "height": 206
        },
        "id": "AhIHQmAmlIPn",
        "outputId": "8359aa81-cc1c-458b-8966-19d913c44019"
      },
      "execution_count": 31,
      "outputs": [
        {
          "output_type": "execute_result",
          "data": {
            "text/plain": [
              "                                               tweet  polarity  subjectivity  \\\n",
              "0                                                     0.000000      0.000000   \n",
              "1                               #nothingsstoppingus.  0.000000      0.000000   \n",
              "2  if you think of the world as a collection of s...  0.211111      0.711111   \n",
              "3  i think tesco still has some but they are clos... -0.100000      0.100000   \n",
              "4  tesco is the shit, except all of their sandwic... -0.350000      0.900000   \n",
              "\n",
              "  classification  \n",
              "0        neutral  \n",
              "1        neutral  \n",
              "2       positive  \n",
              "3       negative  \n",
              "4       negative  "
            ],
            "text/html": [
              "\n",
              "  <div id=\"df-2c839612-b057-41ab-97e1-297414d95470\">\n",
              "    <div class=\"colab-df-container\">\n",
              "      <div>\n",
              "<style scoped>\n",
              "    .dataframe tbody tr th:only-of-type {\n",
              "        vertical-align: middle;\n",
              "    }\n",
              "\n",
              "    .dataframe tbody tr th {\n",
              "        vertical-align: top;\n",
              "    }\n",
              "\n",
              "    .dataframe thead th {\n",
              "        text-align: right;\n",
              "    }\n",
              "</style>\n",
              "<table border=\"1\" class=\"dataframe\">\n",
              "  <thead>\n",
              "    <tr style=\"text-align: right;\">\n",
              "      <th></th>\n",
              "      <th>tweet</th>\n",
              "      <th>polarity</th>\n",
              "      <th>subjectivity</th>\n",
              "      <th>classification</th>\n",
              "    </tr>\n",
              "  </thead>\n",
              "  <tbody>\n",
              "    <tr>\n",
              "      <th>0</th>\n",
              "      <td></td>\n",
              "      <td>0.000000</td>\n",
              "      <td>0.000000</td>\n",
              "      <td>neutral</td>\n",
              "    </tr>\n",
              "    <tr>\n",
              "      <th>1</th>\n",
              "      <td>#nothingsstoppingus.</td>\n",
              "      <td>0.000000</td>\n",
              "      <td>0.000000</td>\n",
              "      <td>neutral</td>\n",
              "    </tr>\n",
              "    <tr>\n",
              "      <th>2</th>\n",
              "      <td>if you think of the world as a collection of s...</td>\n",
              "      <td>0.211111</td>\n",
              "      <td>0.711111</td>\n",
              "      <td>positive</td>\n",
              "    </tr>\n",
              "    <tr>\n",
              "      <th>3</th>\n",
              "      <td>i think tesco still has some but they are clos...</td>\n",
              "      <td>-0.100000</td>\n",
              "      <td>0.100000</td>\n",
              "      <td>negative</td>\n",
              "    </tr>\n",
              "    <tr>\n",
              "      <th>4</th>\n",
              "      <td>tesco is the shit, except all of their sandwic...</td>\n",
              "      <td>-0.350000</td>\n",
              "      <td>0.900000</td>\n",
              "      <td>negative</td>\n",
              "    </tr>\n",
              "  </tbody>\n",
              "</table>\n",
              "</div>\n",
              "      <button class=\"colab-df-convert\" onclick=\"convertToInteractive('df-2c839612-b057-41ab-97e1-297414d95470')\"\n",
              "              title=\"Convert this dataframe to an interactive table.\"\n",
              "              style=\"display:none;\">\n",
              "        \n",
              "  <svg xmlns=\"http://www.w3.org/2000/svg\" height=\"24px\"viewBox=\"0 0 24 24\"\n",
              "       width=\"24px\">\n",
              "    <path d=\"M0 0h24v24H0V0z\" fill=\"none\"/>\n",
              "    <path d=\"M18.56 5.44l.94 2.06.94-2.06 2.06-.94-2.06-.94-.94-2.06-.94 2.06-2.06.94zm-11 1L8.5 8.5l.94-2.06 2.06-.94-2.06-.94L8.5 2.5l-.94 2.06-2.06.94zm10 10l.94 2.06.94-2.06 2.06-.94-2.06-.94-.94-2.06-.94 2.06-2.06.94z\"/><path d=\"M17.41 7.96l-1.37-1.37c-.4-.4-.92-.59-1.43-.59-.52 0-1.04.2-1.43.59L10.3 9.45l-7.72 7.72c-.78.78-.78 2.05 0 2.83L4 21.41c.39.39.9.59 1.41.59.51 0 1.02-.2 1.41-.59l7.78-7.78 2.81-2.81c.8-.78.8-2.07 0-2.86zM5.41 20L4 18.59l7.72-7.72 1.47 1.35L5.41 20z\"/>\n",
              "  </svg>\n",
              "      </button>\n",
              "      \n",
              "  <style>\n",
              "    .colab-df-container {\n",
              "      display:flex;\n",
              "      flex-wrap:wrap;\n",
              "      gap: 12px;\n",
              "    }\n",
              "\n",
              "    .colab-df-convert {\n",
              "      background-color: #E8F0FE;\n",
              "      border: none;\n",
              "      border-radius: 50%;\n",
              "      cursor: pointer;\n",
              "      display: none;\n",
              "      fill: #1967D2;\n",
              "      height: 32px;\n",
              "      padding: 0 0 0 0;\n",
              "      width: 32px;\n",
              "    }\n",
              "\n",
              "    .colab-df-convert:hover {\n",
              "      background-color: #E2EBFA;\n",
              "      box-shadow: 0px 1px 2px rgba(60, 64, 67, 0.3), 0px 1px 3px 1px rgba(60, 64, 67, 0.15);\n",
              "      fill: #174EA6;\n",
              "    }\n",
              "\n",
              "    [theme=dark] .colab-df-convert {\n",
              "      background-color: #3B4455;\n",
              "      fill: #D2E3FC;\n",
              "    }\n",
              "\n",
              "    [theme=dark] .colab-df-convert:hover {\n",
              "      background-color: #434B5C;\n",
              "      box-shadow: 0px 1px 3px 1px rgba(0, 0, 0, 0.15);\n",
              "      filter: drop-shadow(0px 1px 2px rgba(0, 0, 0, 0.3));\n",
              "      fill: #FFFFFF;\n",
              "    }\n",
              "  </style>\n",
              "\n",
              "      <script>\n",
              "        const buttonEl =\n",
              "          document.querySelector('#df-2c839612-b057-41ab-97e1-297414d95470 button.colab-df-convert');\n",
              "        buttonEl.style.display =\n",
              "          google.colab.kernel.accessAllowed ? 'block' : 'none';\n",
              "\n",
              "        async function convertToInteractive(key) {\n",
              "          const element = document.querySelector('#df-2c839612-b057-41ab-97e1-297414d95470');\n",
              "          const dataTable =\n",
              "            await google.colab.kernel.invokeFunction('convertToInteractive',\n",
              "                                                     [key], {});\n",
              "          if (!dataTable) return;\n",
              "\n",
              "          const docLinkHtml = 'Like what you see? Visit the ' +\n",
              "            '<a target=\"_blank\" href=https://colab.research.google.com/notebooks/data_table.ipynb>data table notebook</a>'\n",
              "            + ' to learn more about interactive tables.';\n",
              "          element.innerHTML = '';\n",
              "          dataTable['output_type'] = 'display_data';\n",
              "          await google.colab.output.renderOutput(dataTable, element);\n",
              "          const docLink = document.createElement('div');\n",
              "          docLink.innerHTML = docLinkHtml;\n",
              "          element.appendChild(docLink);\n",
              "        }\n",
              "      </script>\n",
              "    </div>\n",
              "  </div>\n",
              "  "
            ]
          },
          "metadata": {},
          "execution_count": 31
        }
      ]
    },
    {
      "cell_type": "code",
      "source": [
        "Tesco_Tweets.classification.value_counts()"
      ],
      "metadata": {
        "colab": {
          "base_uri": "https://localhost:8080/"
        },
        "id": "18EjeqmslIMw",
        "outputId": "e5a6b7e7-c2cb-427b-8f21-f0eb6d3bbfcc"
      },
      "execution_count": 32,
      "outputs": [
        {
          "output_type": "execute_result",
          "data": {
            "text/plain": [
              "neutral     8436\n",
              "positive    7693\n",
              "negative    3553\n",
              "Name: classification, dtype: int64"
            ]
          },
          "metadata": {},
          "execution_count": 32
        }
      ]
    },
    {
      "cell_type": "markdown",
      "source": [
        "**Examine the tweet by Classification**"
      ],
      "metadata": {
        "id": "Wm3eaNyEkj9x"
      }
    },
    {
      "cell_type": "code",
      "source": [
        "# Neutral Tweet classification\n",
        "Tesco_neutral_tweets = Tesco_Tweets[Tesco_Tweets.classification == 'neutral'].reset_index(drop=True)\n",
        "Tesco_neutral_tweets.head(10)"
      ],
      "metadata": {
        "id": "xXXxATa5lIJ3",
        "colab": {
          "base_uri": "https://localhost:8080/",
          "height": 363
        },
        "outputId": "8fbeef47-a84c-4054-ec4a-c7a761b9d5e1"
      },
      "execution_count": 33,
      "outputs": [
        {
          "output_type": "execute_result",
          "data": {
            "text/plain": [
              "                                               tweet  polarity  subjectivity  \\\n",
              "0                                                     0.000000      0.000000   \n",
              "1                               #nothingsstoppingus.  0.000000      0.000000   \n",
              "2                                                  🎉  0.000000      0.000000   \n",
              "3  tesco but it's my last shift so if you know of...  0.000000      0.066667   \n",
              "4  i am obsessed with the cat in the tesco bag!!!...  0.011719      1.000000   \n",
              "5                                                     0.000000      0.000000   \n",
              "6  ooooh i know someone who works in tesco..thank...  0.000000      0.000000   \n",
              "7  just watching you on c4+1 so unsure when you w...  0.000000      0.000000   \n",
              "8  psa: tesco finest salted caramel nuts are addi...  0.000000      0.900000   \n",
              "9                                jeździsz dla tesco?  0.000000      0.000000   \n",
              "\n",
              "  classification  \n",
              "0        neutral  \n",
              "1        neutral  \n",
              "2        neutral  \n",
              "3        neutral  \n",
              "4        neutral  \n",
              "5        neutral  \n",
              "6        neutral  \n",
              "7        neutral  \n",
              "8        neutral  \n",
              "9        neutral  "
            ],
            "text/html": [
              "\n",
              "  <div id=\"df-063bb26f-61a6-4ab1-a245-a159459cb22b\">\n",
              "    <div class=\"colab-df-container\">\n",
              "      <div>\n",
              "<style scoped>\n",
              "    .dataframe tbody tr th:only-of-type {\n",
              "        vertical-align: middle;\n",
              "    }\n",
              "\n",
              "    .dataframe tbody tr th {\n",
              "        vertical-align: top;\n",
              "    }\n",
              "\n",
              "    .dataframe thead th {\n",
              "        text-align: right;\n",
              "    }\n",
              "</style>\n",
              "<table border=\"1\" class=\"dataframe\">\n",
              "  <thead>\n",
              "    <tr style=\"text-align: right;\">\n",
              "      <th></th>\n",
              "      <th>tweet</th>\n",
              "      <th>polarity</th>\n",
              "      <th>subjectivity</th>\n",
              "      <th>classification</th>\n",
              "    </tr>\n",
              "  </thead>\n",
              "  <tbody>\n",
              "    <tr>\n",
              "      <th>0</th>\n",
              "      <td></td>\n",
              "      <td>0.000000</td>\n",
              "      <td>0.000000</td>\n",
              "      <td>neutral</td>\n",
              "    </tr>\n",
              "    <tr>\n",
              "      <th>1</th>\n",
              "      <td>#nothingsstoppingus.</td>\n",
              "      <td>0.000000</td>\n",
              "      <td>0.000000</td>\n",
              "      <td>neutral</td>\n",
              "    </tr>\n",
              "    <tr>\n",
              "      <th>2</th>\n",
              "      <td>🎉</td>\n",
              "      <td>0.000000</td>\n",
              "      <td>0.000000</td>\n",
              "      <td>neutral</td>\n",
              "    </tr>\n",
              "    <tr>\n",
              "      <th>3</th>\n",
              "      <td>tesco but it's my last shift so if you know of...</td>\n",
              "      <td>0.000000</td>\n",
              "      <td>0.066667</td>\n",
              "      <td>neutral</td>\n",
              "    </tr>\n",
              "    <tr>\n",
              "      <th>4</th>\n",
              "      <td>i am obsessed with the cat in the tesco bag!!!...</td>\n",
              "      <td>0.011719</td>\n",
              "      <td>1.000000</td>\n",
              "      <td>neutral</td>\n",
              "    </tr>\n",
              "    <tr>\n",
              "      <th>5</th>\n",
              "      <td></td>\n",
              "      <td>0.000000</td>\n",
              "      <td>0.000000</td>\n",
              "      <td>neutral</td>\n",
              "    </tr>\n",
              "    <tr>\n",
              "      <th>6</th>\n",
              "      <td>ooooh i know someone who works in tesco..thank...</td>\n",
              "      <td>0.000000</td>\n",
              "      <td>0.000000</td>\n",
              "      <td>neutral</td>\n",
              "    </tr>\n",
              "    <tr>\n",
              "      <th>7</th>\n",
              "      <td>just watching you on c4+1 so unsure when you w...</td>\n",
              "      <td>0.000000</td>\n",
              "      <td>0.000000</td>\n",
              "      <td>neutral</td>\n",
              "    </tr>\n",
              "    <tr>\n",
              "      <th>8</th>\n",
              "      <td>psa: tesco finest salted caramel nuts are addi...</td>\n",
              "      <td>0.000000</td>\n",
              "      <td>0.900000</td>\n",
              "      <td>neutral</td>\n",
              "    </tr>\n",
              "    <tr>\n",
              "      <th>9</th>\n",
              "      <td>jeździsz dla tesco?</td>\n",
              "      <td>0.000000</td>\n",
              "      <td>0.000000</td>\n",
              "      <td>neutral</td>\n",
              "    </tr>\n",
              "  </tbody>\n",
              "</table>\n",
              "</div>\n",
              "      <button class=\"colab-df-convert\" onclick=\"convertToInteractive('df-063bb26f-61a6-4ab1-a245-a159459cb22b')\"\n",
              "              title=\"Convert this dataframe to an interactive table.\"\n",
              "              style=\"display:none;\">\n",
              "        \n",
              "  <svg xmlns=\"http://www.w3.org/2000/svg\" height=\"24px\"viewBox=\"0 0 24 24\"\n",
              "       width=\"24px\">\n",
              "    <path d=\"M0 0h24v24H0V0z\" fill=\"none\"/>\n",
              "    <path d=\"M18.56 5.44l.94 2.06.94-2.06 2.06-.94-2.06-.94-.94-2.06-.94 2.06-2.06.94zm-11 1L8.5 8.5l.94-2.06 2.06-.94-2.06-.94L8.5 2.5l-.94 2.06-2.06.94zm10 10l.94 2.06.94-2.06 2.06-.94-2.06-.94-.94-2.06-.94 2.06-2.06.94z\"/><path d=\"M17.41 7.96l-1.37-1.37c-.4-.4-.92-.59-1.43-.59-.52 0-1.04.2-1.43.59L10.3 9.45l-7.72 7.72c-.78.78-.78 2.05 0 2.83L4 21.41c.39.39.9.59 1.41.59.51 0 1.02-.2 1.41-.59l7.78-7.78 2.81-2.81c.8-.78.8-2.07 0-2.86zM5.41 20L4 18.59l7.72-7.72 1.47 1.35L5.41 20z\"/>\n",
              "  </svg>\n",
              "      </button>\n",
              "      \n",
              "  <style>\n",
              "    .colab-df-container {\n",
              "      display:flex;\n",
              "      flex-wrap:wrap;\n",
              "      gap: 12px;\n",
              "    }\n",
              "\n",
              "    .colab-df-convert {\n",
              "      background-color: #E8F0FE;\n",
              "      border: none;\n",
              "      border-radius: 50%;\n",
              "      cursor: pointer;\n",
              "      display: none;\n",
              "      fill: #1967D2;\n",
              "      height: 32px;\n",
              "      padding: 0 0 0 0;\n",
              "      width: 32px;\n",
              "    }\n",
              "\n",
              "    .colab-df-convert:hover {\n",
              "      background-color: #E2EBFA;\n",
              "      box-shadow: 0px 1px 2px rgba(60, 64, 67, 0.3), 0px 1px 3px 1px rgba(60, 64, 67, 0.15);\n",
              "      fill: #174EA6;\n",
              "    }\n",
              "\n",
              "    [theme=dark] .colab-df-convert {\n",
              "      background-color: #3B4455;\n",
              "      fill: #D2E3FC;\n",
              "    }\n",
              "\n",
              "    [theme=dark] .colab-df-convert:hover {\n",
              "      background-color: #434B5C;\n",
              "      box-shadow: 0px 1px 3px 1px rgba(0, 0, 0, 0.15);\n",
              "      filter: drop-shadow(0px 1px 2px rgba(0, 0, 0, 0.3));\n",
              "      fill: #FFFFFF;\n",
              "    }\n",
              "  </style>\n",
              "\n",
              "      <script>\n",
              "        const buttonEl =\n",
              "          document.querySelector('#df-063bb26f-61a6-4ab1-a245-a159459cb22b button.colab-df-convert');\n",
              "        buttonEl.style.display =\n",
              "          google.colab.kernel.accessAllowed ? 'block' : 'none';\n",
              "\n",
              "        async function convertToInteractive(key) {\n",
              "          const element = document.querySelector('#df-063bb26f-61a6-4ab1-a245-a159459cb22b');\n",
              "          const dataTable =\n",
              "            await google.colab.kernel.invokeFunction('convertToInteractive',\n",
              "                                                     [key], {});\n",
              "          if (!dataTable) return;\n",
              "\n",
              "          const docLinkHtml = 'Like what you see? Visit the ' +\n",
              "            '<a target=\"_blank\" href=https://colab.research.google.com/notebooks/data_table.ipynb>data table notebook</a>'\n",
              "            + ' to learn more about interactive tables.';\n",
              "          element.innerHTML = '';\n",
              "          dataTable['output_type'] = 'display_data';\n",
              "          await google.colab.output.renderOutput(dataTable, element);\n",
              "          const docLink = document.createElement('div');\n",
              "          docLink.innerHTML = docLinkHtml;\n",
              "          element.appendChild(docLink);\n",
              "        }\n",
              "      </script>\n",
              "    </div>\n",
              "  </div>\n",
              "  "
            ]
          },
          "metadata": {},
          "execution_count": 33
        }
      ]
    },
    {
      "cell_type": "code",
      "source": [
        "print(Tesco_neutral_tweets.tweet[155])\n",
        "print(Tesco_neutral_tweets.tweet[361])\n",
        "print(Tesco_neutral_tweets.tweet[400])\n",
        "print(Tesco_neutral_tweets.tweet[655])\n",
        "print(Tesco_neutral_tweets.tweet[7899])"
      ],
      "metadata": {
        "id": "hwsg_U-In1fn",
        "colab": {
          "base_uri": "https://localhost:8080/"
        },
        "outputId": "bfe8a0d5-94dd-4499-90fe-dca151dd03f7"
      },
      "execution_count": 34,
      "outputs": [
        {
          "output_type": "stream",
          "name": "stdout",
          "text": [
            "my tesco doesn't make pizza's?\n",
            "hi, thanks for getting in touch. i'm sorry this has happened. if you could please dm us with your name, address and email address we can certainly pass this on to the store that delivered your order. thanks - iain\n",
            "lidl, aldi, morrisons, sainsbury's, tesco and asda were all put to the test\n",
            "that's almost 20% of my order 😭\n",
            "if it's lichfield u will be in drivers room with all there staff🙈🙈🙈\n"
          ]
        }
      ]
    },
    {
      "cell_type": "code",
      "source": [
        "#Positive tweets classification\n",
        "Tesco_positive_tweets = Tesco_Tweets[Tesco_Tweets.classification == 'positive'].reset_index(drop=True)\n",
        "Tesco_positive_tweets.head(10)"
      ],
      "metadata": {
        "id": "wM8q2kQtn1b_",
        "colab": {
          "base_uri": "https://localhost:8080/",
          "height": 363
        },
        "outputId": "2b1a285d-e848-406d-ccf0-d07d51815899"
      },
      "execution_count": 35,
      "outputs": [
        {
          "output_type": "execute_result",
          "data": {
            "text/plain": [
              "                                               tweet  polarity  subjectivity  \\\n",
              "0  if you think of the world as a collection of s...  0.211111      0.711111   \n",
              "1              #nothingsstoppingus.happy new year!!!  0.266335      0.454545   \n",
              "2  i used to be \"only nolly pratt will do\" then o...  0.533333      0.766667   \n",
              "3  i live in constant fear as i never know when m...  0.068182      0.416667   \n",
              "4  i accidentally smashed a bottle of vodka in te...  0.312121      0.651515   \n",
              "5  i think we can all agree that this country’s c...  0.175000      0.375000   \n",
              "6  when i was working on the tills at tesco i hav...  0.500000      0.888889   \n",
              "7                      new alternative meat content.  0.136364      0.454545   \n",
              "8  and she's local. i've seen her in our local te...  0.166667      0.166667   \n",
              "9  there are many factors. i had tesco delivery b...  0.050000      0.775000   \n",
              "\n",
              "  classification  \n",
              "0       positive  \n",
              "1       positive  \n",
              "2       positive  \n",
              "3       positive  \n",
              "4       positive  \n",
              "5       positive  \n",
              "6       positive  \n",
              "7       positive  \n",
              "8       positive  \n",
              "9       positive  "
            ],
            "text/html": [
              "\n",
              "  <div id=\"df-c3125e4c-b20d-4fd1-b483-48bea6b78b84\">\n",
              "    <div class=\"colab-df-container\">\n",
              "      <div>\n",
              "<style scoped>\n",
              "    .dataframe tbody tr th:only-of-type {\n",
              "        vertical-align: middle;\n",
              "    }\n",
              "\n",
              "    .dataframe tbody tr th {\n",
              "        vertical-align: top;\n",
              "    }\n",
              "\n",
              "    .dataframe thead th {\n",
              "        text-align: right;\n",
              "    }\n",
              "</style>\n",
              "<table border=\"1\" class=\"dataframe\">\n",
              "  <thead>\n",
              "    <tr style=\"text-align: right;\">\n",
              "      <th></th>\n",
              "      <th>tweet</th>\n",
              "      <th>polarity</th>\n",
              "      <th>subjectivity</th>\n",
              "      <th>classification</th>\n",
              "    </tr>\n",
              "  </thead>\n",
              "  <tbody>\n",
              "    <tr>\n",
              "      <th>0</th>\n",
              "      <td>if you think of the world as a collection of s...</td>\n",
              "      <td>0.211111</td>\n",
              "      <td>0.711111</td>\n",
              "      <td>positive</td>\n",
              "    </tr>\n",
              "    <tr>\n",
              "      <th>1</th>\n",
              "      <td>#nothingsstoppingus.happy new year!!!</td>\n",
              "      <td>0.266335</td>\n",
              "      <td>0.454545</td>\n",
              "      <td>positive</td>\n",
              "    </tr>\n",
              "    <tr>\n",
              "      <th>2</th>\n",
              "      <td>i used to be \"only nolly pratt will do\" then o...</td>\n",
              "      <td>0.533333</td>\n",
              "      <td>0.766667</td>\n",
              "      <td>positive</td>\n",
              "    </tr>\n",
              "    <tr>\n",
              "      <th>3</th>\n",
              "      <td>i live in constant fear as i never know when m...</td>\n",
              "      <td>0.068182</td>\n",
              "      <td>0.416667</td>\n",
              "      <td>positive</td>\n",
              "    </tr>\n",
              "    <tr>\n",
              "      <th>4</th>\n",
              "      <td>i accidentally smashed a bottle of vodka in te...</td>\n",
              "      <td>0.312121</td>\n",
              "      <td>0.651515</td>\n",
              "      <td>positive</td>\n",
              "    </tr>\n",
              "    <tr>\n",
              "      <th>5</th>\n",
              "      <td>i think we can all agree that this country’s c...</td>\n",
              "      <td>0.175000</td>\n",
              "      <td>0.375000</td>\n",
              "      <td>positive</td>\n",
              "    </tr>\n",
              "    <tr>\n",
              "      <th>6</th>\n",
              "      <td>when i was working on the tills at tesco i hav...</td>\n",
              "      <td>0.500000</td>\n",
              "      <td>0.888889</td>\n",
              "      <td>positive</td>\n",
              "    </tr>\n",
              "    <tr>\n",
              "      <th>7</th>\n",
              "      <td>new alternative meat content.</td>\n",
              "      <td>0.136364</td>\n",
              "      <td>0.454545</td>\n",
              "      <td>positive</td>\n",
              "    </tr>\n",
              "    <tr>\n",
              "      <th>8</th>\n",
              "      <td>and she's local. i've seen her in our local te...</td>\n",
              "      <td>0.166667</td>\n",
              "      <td>0.166667</td>\n",
              "      <td>positive</td>\n",
              "    </tr>\n",
              "    <tr>\n",
              "      <th>9</th>\n",
              "      <td>there are many factors. i had tesco delivery b...</td>\n",
              "      <td>0.050000</td>\n",
              "      <td>0.775000</td>\n",
              "      <td>positive</td>\n",
              "    </tr>\n",
              "  </tbody>\n",
              "</table>\n",
              "</div>\n",
              "      <button class=\"colab-df-convert\" onclick=\"convertToInteractive('df-c3125e4c-b20d-4fd1-b483-48bea6b78b84')\"\n",
              "              title=\"Convert this dataframe to an interactive table.\"\n",
              "              style=\"display:none;\">\n",
              "        \n",
              "  <svg xmlns=\"http://www.w3.org/2000/svg\" height=\"24px\"viewBox=\"0 0 24 24\"\n",
              "       width=\"24px\">\n",
              "    <path d=\"M0 0h24v24H0V0z\" fill=\"none\"/>\n",
              "    <path d=\"M18.56 5.44l.94 2.06.94-2.06 2.06-.94-2.06-.94-.94-2.06-.94 2.06-2.06.94zm-11 1L8.5 8.5l.94-2.06 2.06-.94-2.06-.94L8.5 2.5l-.94 2.06-2.06.94zm10 10l.94 2.06.94-2.06 2.06-.94-2.06-.94-.94-2.06-.94 2.06-2.06.94z\"/><path d=\"M17.41 7.96l-1.37-1.37c-.4-.4-.92-.59-1.43-.59-.52 0-1.04.2-1.43.59L10.3 9.45l-7.72 7.72c-.78.78-.78 2.05 0 2.83L4 21.41c.39.39.9.59 1.41.59.51 0 1.02-.2 1.41-.59l7.78-7.78 2.81-2.81c.8-.78.8-2.07 0-2.86zM5.41 20L4 18.59l7.72-7.72 1.47 1.35L5.41 20z\"/>\n",
              "  </svg>\n",
              "      </button>\n",
              "      \n",
              "  <style>\n",
              "    .colab-df-container {\n",
              "      display:flex;\n",
              "      flex-wrap:wrap;\n",
              "      gap: 12px;\n",
              "    }\n",
              "\n",
              "    .colab-df-convert {\n",
              "      background-color: #E8F0FE;\n",
              "      border: none;\n",
              "      border-radius: 50%;\n",
              "      cursor: pointer;\n",
              "      display: none;\n",
              "      fill: #1967D2;\n",
              "      height: 32px;\n",
              "      padding: 0 0 0 0;\n",
              "      width: 32px;\n",
              "    }\n",
              "\n",
              "    .colab-df-convert:hover {\n",
              "      background-color: #E2EBFA;\n",
              "      box-shadow: 0px 1px 2px rgba(60, 64, 67, 0.3), 0px 1px 3px 1px rgba(60, 64, 67, 0.15);\n",
              "      fill: #174EA6;\n",
              "    }\n",
              "\n",
              "    [theme=dark] .colab-df-convert {\n",
              "      background-color: #3B4455;\n",
              "      fill: #D2E3FC;\n",
              "    }\n",
              "\n",
              "    [theme=dark] .colab-df-convert:hover {\n",
              "      background-color: #434B5C;\n",
              "      box-shadow: 0px 1px 3px 1px rgba(0, 0, 0, 0.15);\n",
              "      filter: drop-shadow(0px 1px 2px rgba(0, 0, 0, 0.3));\n",
              "      fill: #FFFFFF;\n",
              "    }\n",
              "  </style>\n",
              "\n",
              "      <script>\n",
              "        const buttonEl =\n",
              "          document.querySelector('#df-c3125e4c-b20d-4fd1-b483-48bea6b78b84 button.colab-df-convert');\n",
              "        buttonEl.style.display =\n",
              "          google.colab.kernel.accessAllowed ? 'block' : 'none';\n",
              "\n",
              "        async function convertToInteractive(key) {\n",
              "          const element = document.querySelector('#df-c3125e4c-b20d-4fd1-b483-48bea6b78b84');\n",
              "          const dataTable =\n",
              "            await google.colab.kernel.invokeFunction('convertToInteractive',\n",
              "                                                     [key], {});\n",
              "          if (!dataTable) return;\n",
              "\n",
              "          const docLinkHtml = 'Like what you see? Visit the ' +\n",
              "            '<a target=\"_blank\" href=https://colab.research.google.com/notebooks/data_table.ipynb>data table notebook</a>'\n",
              "            + ' to learn more about interactive tables.';\n",
              "          element.innerHTML = '';\n",
              "          dataTable['output_type'] = 'display_data';\n",
              "          await google.colab.output.renderOutput(dataTable, element);\n",
              "          const docLink = document.createElement('div');\n",
              "          docLink.innerHTML = docLinkHtml;\n",
              "          element.appendChild(docLink);\n",
              "        }\n",
              "      </script>\n",
              "    </div>\n",
              "  </div>\n",
              "  "
            ]
          },
          "metadata": {},
          "execution_count": 35
        }
      ]
    },
    {
      "cell_type": "code",
      "source": [
        "print(Tesco_positive_tweets.tweet[1225])\n",
        "print(Tesco_positive_tweets.tweet[258])\n",
        "print(Tesco_positive_tweets.tweet[4788])\n",
        "print(Tesco_positive_tweets.tweet[2358])\n",
        "print(Tesco_positive_tweets.tweet[1358])"
      ],
      "metadata": {
        "id": "47parVYDn1Ym",
        "colab": {
          "base_uri": "https://localhost:8080/"
        },
        "outputId": "4213aed9-535b-40ad-d654-c124816f8289"
      },
      "execution_count": 36,
      "outputs": [
        {
          "output_type": "stream",
          "name": "stdout",
          "text": [
            "don’t care + you mans play non league football. focus on getting a good football club rather than tweeting about tesco\n",
            "same with tesco. they run out of veggie toppings but won't allow you to walk 5 yards to actually get some more.\n",
            "if 5 people sent me £2 i could go to big tesco i’ll leave my paypal here if you’re interested yungmoneyrobert420xx\n",
            "i find most pay at pump experiences lack endings. like, you’re left hanging asking if you want a receipt but there’s nothing that tells you you’ve successfully completed a transaction.\n",
            "request from a great actor i worked with connor swindells - please print bowel cancer symptoms on your toilet rolls! people like my dad could be alive if they find out sooner.\n"
          ]
        }
      ]
    },
    {
      "cell_type": "code",
      "source": [
        "#Negative tweets classification\n",
        "Tesco_negative_tweets = Tesco_Tweets[Tesco_Tweets.classification == 'negative'].reset_index(drop=True)\n",
        "Tesco_negative_tweets.head(10)"
      ],
      "metadata": {
        "colab": {
          "base_uri": "https://localhost:8080/",
          "height": 363
        },
        "id": "TUnE7KPCoDqQ",
        "outputId": "0139e328-8744-456b-e68e-5562a55b7f50"
      },
      "execution_count": 37,
      "outputs": [
        {
          "output_type": "execute_result",
          "data": {
            "text/plain": [
              "                                               tweet  polarity  subjectivity  \\\n",
              "0  i think tesco still has some but they are clos... -0.100000      0.100000   \n",
              "1  tesco is the shit, except all of their sandwic... -0.350000      0.900000   \n",
              "2  a truly mad year! started it working pt for te... -0.074432      0.387963   \n",
              "3  hopefully 2022 is the year we accept a trip to... -0.300000      0.450000   \n",
              "4  we had a few bombers thrown at our car when we... -0.198611      0.255556   \n",
              "5  seriously . tesco wine and bernardspotting in ... -0.333333      0.666667   \n",
              "6  if . really believes that #everylittlehelps, w... -0.152727      0.630000   \n",
              "7  hey as you plan the year ahead at today’s agm,... -1.000000      1.000000   \n",
              "8  hi hannah, i'm sorry this side salad was not t... -0.225000      0.400000   \n",
              "9  i'm actually queueing for tesco with 3 other p... -0.062500      0.237500   \n",
              "\n",
              "  classification  \n",
              "0       negative  \n",
              "1       negative  \n",
              "2       negative  \n",
              "3       negative  \n",
              "4       negative  \n",
              "5       negative  \n",
              "6       negative  \n",
              "7       negative  \n",
              "8       negative  \n",
              "9       negative  "
            ],
            "text/html": [
              "\n",
              "  <div id=\"df-f1191ac2-d411-43da-aa9a-8dd92dac228d\">\n",
              "    <div class=\"colab-df-container\">\n",
              "      <div>\n",
              "<style scoped>\n",
              "    .dataframe tbody tr th:only-of-type {\n",
              "        vertical-align: middle;\n",
              "    }\n",
              "\n",
              "    .dataframe tbody tr th {\n",
              "        vertical-align: top;\n",
              "    }\n",
              "\n",
              "    .dataframe thead th {\n",
              "        text-align: right;\n",
              "    }\n",
              "</style>\n",
              "<table border=\"1\" class=\"dataframe\">\n",
              "  <thead>\n",
              "    <tr style=\"text-align: right;\">\n",
              "      <th></th>\n",
              "      <th>tweet</th>\n",
              "      <th>polarity</th>\n",
              "      <th>subjectivity</th>\n",
              "      <th>classification</th>\n",
              "    </tr>\n",
              "  </thead>\n",
              "  <tbody>\n",
              "    <tr>\n",
              "      <th>0</th>\n",
              "      <td>i think tesco still has some but they are clos...</td>\n",
              "      <td>-0.100000</td>\n",
              "      <td>0.100000</td>\n",
              "      <td>negative</td>\n",
              "    </tr>\n",
              "    <tr>\n",
              "      <th>1</th>\n",
              "      <td>tesco is the shit, except all of their sandwic...</td>\n",
              "      <td>-0.350000</td>\n",
              "      <td>0.900000</td>\n",
              "      <td>negative</td>\n",
              "    </tr>\n",
              "    <tr>\n",
              "      <th>2</th>\n",
              "      <td>a truly mad year! started it working pt for te...</td>\n",
              "      <td>-0.074432</td>\n",
              "      <td>0.387963</td>\n",
              "      <td>negative</td>\n",
              "    </tr>\n",
              "    <tr>\n",
              "      <th>3</th>\n",
              "      <td>hopefully 2022 is the year we accept a trip to...</td>\n",
              "      <td>-0.300000</td>\n",
              "      <td>0.450000</td>\n",
              "      <td>negative</td>\n",
              "    </tr>\n",
              "    <tr>\n",
              "      <th>4</th>\n",
              "      <td>we had a few bombers thrown at our car when we...</td>\n",
              "      <td>-0.198611</td>\n",
              "      <td>0.255556</td>\n",
              "      <td>negative</td>\n",
              "    </tr>\n",
              "    <tr>\n",
              "      <th>5</th>\n",
              "      <td>seriously . tesco wine and bernardspotting in ...</td>\n",
              "      <td>-0.333333</td>\n",
              "      <td>0.666667</td>\n",
              "      <td>negative</td>\n",
              "    </tr>\n",
              "    <tr>\n",
              "      <th>6</th>\n",
              "      <td>if . really believes that #everylittlehelps, w...</td>\n",
              "      <td>-0.152727</td>\n",
              "      <td>0.630000</td>\n",
              "      <td>negative</td>\n",
              "    </tr>\n",
              "    <tr>\n",
              "      <th>7</th>\n",
              "      <td>hey as you plan the year ahead at today’s agm,...</td>\n",
              "      <td>-1.000000</td>\n",
              "      <td>1.000000</td>\n",
              "      <td>negative</td>\n",
              "    </tr>\n",
              "    <tr>\n",
              "      <th>8</th>\n",
              "      <td>hi hannah, i'm sorry this side salad was not t...</td>\n",
              "      <td>-0.225000</td>\n",
              "      <td>0.400000</td>\n",
              "      <td>negative</td>\n",
              "    </tr>\n",
              "    <tr>\n",
              "      <th>9</th>\n",
              "      <td>i'm actually queueing for tesco with 3 other p...</td>\n",
              "      <td>-0.062500</td>\n",
              "      <td>0.237500</td>\n",
              "      <td>negative</td>\n",
              "    </tr>\n",
              "  </tbody>\n",
              "</table>\n",
              "</div>\n",
              "      <button class=\"colab-df-convert\" onclick=\"convertToInteractive('df-f1191ac2-d411-43da-aa9a-8dd92dac228d')\"\n",
              "              title=\"Convert this dataframe to an interactive table.\"\n",
              "              style=\"display:none;\">\n",
              "        \n",
              "  <svg xmlns=\"http://www.w3.org/2000/svg\" height=\"24px\"viewBox=\"0 0 24 24\"\n",
              "       width=\"24px\">\n",
              "    <path d=\"M0 0h24v24H0V0z\" fill=\"none\"/>\n",
              "    <path d=\"M18.56 5.44l.94 2.06.94-2.06 2.06-.94-2.06-.94-.94-2.06-.94 2.06-2.06.94zm-11 1L8.5 8.5l.94-2.06 2.06-.94-2.06-.94L8.5 2.5l-.94 2.06-2.06.94zm10 10l.94 2.06.94-2.06 2.06-.94-2.06-.94-.94-2.06-.94 2.06-2.06.94z\"/><path d=\"M17.41 7.96l-1.37-1.37c-.4-.4-.92-.59-1.43-.59-.52 0-1.04.2-1.43.59L10.3 9.45l-7.72 7.72c-.78.78-.78 2.05 0 2.83L4 21.41c.39.39.9.59 1.41.59.51 0 1.02-.2 1.41-.59l7.78-7.78 2.81-2.81c.8-.78.8-2.07 0-2.86zM5.41 20L4 18.59l7.72-7.72 1.47 1.35L5.41 20z\"/>\n",
              "  </svg>\n",
              "      </button>\n",
              "      \n",
              "  <style>\n",
              "    .colab-df-container {\n",
              "      display:flex;\n",
              "      flex-wrap:wrap;\n",
              "      gap: 12px;\n",
              "    }\n",
              "\n",
              "    .colab-df-convert {\n",
              "      background-color: #E8F0FE;\n",
              "      border: none;\n",
              "      border-radius: 50%;\n",
              "      cursor: pointer;\n",
              "      display: none;\n",
              "      fill: #1967D2;\n",
              "      height: 32px;\n",
              "      padding: 0 0 0 0;\n",
              "      width: 32px;\n",
              "    }\n",
              "\n",
              "    .colab-df-convert:hover {\n",
              "      background-color: #E2EBFA;\n",
              "      box-shadow: 0px 1px 2px rgba(60, 64, 67, 0.3), 0px 1px 3px 1px rgba(60, 64, 67, 0.15);\n",
              "      fill: #174EA6;\n",
              "    }\n",
              "\n",
              "    [theme=dark] .colab-df-convert {\n",
              "      background-color: #3B4455;\n",
              "      fill: #D2E3FC;\n",
              "    }\n",
              "\n",
              "    [theme=dark] .colab-df-convert:hover {\n",
              "      background-color: #434B5C;\n",
              "      box-shadow: 0px 1px 3px 1px rgba(0, 0, 0, 0.15);\n",
              "      filter: drop-shadow(0px 1px 2px rgba(0, 0, 0, 0.3));\n",
              "      fill: #FFFFFF;\n",
              "    }\n",
              "  </style>\n",
              "\n",
              "      <script>\n",
              "        const buttonEl =\n",
              "          document.querySelector('#df-f1191ac2-d411-43da-aa9a-8dd92dac228d button.colab-df-convert');\n",
              "        buttonEl.style.display =\n",
              "          google.colab.kernel.accessAllowed ? 'block' : 'none';\n",
              "\n",
              "        async function convertToInteractive(key) {\n",
              "          const element = document.querySelector('#df-f1191ac2-d411-43da-aa9a-8dd92dac228d');\n",
              "          const dataTable =\n",
              "            await google.colab.kernel.invokeFunction('convertToInteractive',\n",
              "                                                     [key], {});\n",
              "          if (!dataTable) return;\n",
              "\n",
              "          const docLinkHtml = 'Like what you see? Visit the ' +\n",
              "            '<a target=\"_blank\" href=https://colab.research.google.com/notebooks/data_table.ipynb>data table notebook</a>'\n",
              "            + ' to learn more about interactive tables.';\n",
              "          element.innerHTML = '';\n",
              "          dataTable['output_type'] = 'display_data';\n",
              "          await google.colab.output.renderOutput(dataTable, element);\n",
              "          const docLink = document.createElement('div');\n",
              "          docLink.innerHTML = docLinkHtml;\n",
              "          element.appendChild(docLink);\n",
              "        }\n",
              "      </script>\n",
              "    </div>\n",
              "  </div>\n",
              "  "
            ]
          },
          "metadata": {},
          "execution_count": 37
        }
      ]
    },
    {
      "cell_type": "code",
      "source": [
        "print(Tesco_negative_tweets.tweet[258])\n",
        "print(Tesco_negative_tweets.tweet[2158])\n",
        "print(Tesco_negative_tweets.tweet[254])\n",
        "print(Tesco_negative_tweets.tweet[2580])\n",
        "print(Tesco_negative_tweets.tweet[958])"
      ],
      "metadata": {
        "colab": {
          "base_uri": "https://localhost:8080/"
        },
        "id": "6cnktGIHoDs5",
        "outputId": "d9c5b5f0-3303-45d4-fdc7-6abc091d8227"
      },
      "execution_count": 38,
      "outputs": [
        {
          "output_type": "stream",
          "name": "stdout",
          "text": [
            "hi i am very sorry for making you go to tesco for pens for my quiz.\n",
            "new sale on at tesco! trade in 2 gallons of vape juice to get a copy of speedy coileain the game for the xbox 360!\n",
            "when you go to tesco only for 3 items, to make another key lime pie, (because you forgot to turn the oven down and burnt it)🤦‍♀️😡....\n",
            "does anyone feel that the app is purposely difficult to sign into so you can't get clubcard discounts?\n",
            "tesco works for the uk not the other way round.\n"
          ]
        }
      ]
    },
    {
      "cell_type": "markdown",
      "source": [
        "**Using Vader Method**"
      ],
      "metadata": {
        "id": "dod-OS3krB7H"
      }
    },
    {
      "cell_type": "code",
      "source": [
        "vader = SentimentIntensityAnalyzer()\n",
        "vader.polarity_scores(Tesco_neutral_tweets.tweet[0])"
      ],
      "metadata": {
        "colab": {
          "base_uri": "https://localhost:8080/"
        },
        "id": "NH2i_EUZoDvP",
        "outputId": "eb45c519-9e9f-429e-889a-fd91681fd63a"
      },
      "execution_count": 39,
      "outputs": [
        {
          "output_type": "execute_result",
          "data": {
            "text/plain": [
              "{'compound': 0.0, 'neg': 0.0, 'neu': 0.0, 'pos': 0.0}"
            ]
          },
          "metadata": {},
          "execution_count": 39
        }
      ]
    },
    {
      "cell_type": "code",
      "source": [
        "vader = SentimentIntensityAnalyzer()\n",
        "vader.polarity_scores(Tesco_positive_tweets.tweet[0])"
      ],
      "metadata": {
        "colab": {
          "base_uri": "https://localhost:8080/"
        },
        "id": "K3xX6IngoDyV",
        "outputId": "0b14aaa3-a671-469d-c1a8-f340bd7d5071"
      },
      "execution_count": 40,
      "outputs": [
        {
          "output_type": "execute_result",
          "data": {
            "text/plain": [
              "{'compound': 0.4404, 'neg': 0.0, 'neu': 0.944, 'pos': 0.056}"
            ]
          },
          "metadata": {},
          "execution_count": 40
        }
      ]
    },
    {
      "cell_type": "code",
      "source": [
        "vader = SentimentIntensityAnalyzer()\n",
        "vader.polarity_scores(Tesco_negative_tweets.tweet[0])"
      ],
      "metadata": {
        "colab": {
          "base_uri": "https://localhost:8080/"
        },
        "id": "NxrfucJBoD1X",
        "outputId": "d362d28e-7115-4a7d-fcf1-ee05a31d900f"
      },
      "execution_count": 41,
      "outputs": [
        {
          "output_type": "execute_result",
          "data": {
            "text/plain": [
              "{'compound': 0.0, 'neg': 0.0, 'neu': 1.0, 'pos': 0.0}"
            ]
          },
          "metadata": {},
          "execution_count": 41
        }
      ]
    },
    {
      "cell_type": "code",
      "source": [
        "Vader = lambda tweet: vader.polarity_scores(tweet)['compound']"
      ],
      "metadata": {
        "id": "Zy3WM6yhr0wH"
      },
      "execution_count": 42,
      "outputs": []
    },
    {
      "cell_type": "code",
      "source": [
        "Tesco_Tweets.loc[:, 'compound'] = Tesco_Tweets['tweet'].apply(Vader)"
      ],
      "metadata": {
        "id": "GjMYLtZKr0s4"
      },
      "execution_count": 43,
      "outputs": []
    },
    {
      "cell_type": "code",
      "source": [
        "Tesco_Tweets"
      ],
      "metadata": {
        "colab": {
          "base_uri": "https://localhost:8080/",
          "height": 424
        },
        "id": "UhXy2NUEr0p1",
        "outputId": "2f1c8701-76de-473e-dfd9-7ff45d60dbd7"
      },
      "execution_count": 44,
      "outputs": [
        {
          "output_type": "execute_result",
          "data": {
            "text/plain": [
              "                                                   tweet  polarity  \\\n",
              "0                                                         0.000000   \n",
              "1                                   #nothingsstoppingus.  0.000000   \n",
              "2      if you think of the world as a collection of s...  0.211111   \n",
              "3      i think tesco still has some but they are clos... -0.100000   \n",
              "4      tesco is the shit, except all of their sandwic... -0.350000   \n",
              "...                                                  ...       ...   \n",
              "19677                                 ok tesco calm down  0.214815   \n",
              "19678  what a day!! survived on 2 hours kip, nearly f...  0.125000   \n",
              "19679               looks a bit undercooked to me mate 👀  0.000000   \n",
              "19680  not having a tesco clubcard is a massive ick, ...  0.000000   \n",
              "19681  this is a new one on me, 0 tills open because ...  0.162121   \n",
              "\n",
              "       subjectivity classification  compound  \n",
              "0          0.000000        neutral    0.0000  \n",
              "1          0.000000        neutral    0.0000  \n",
              "2          0.711111       positive    0.4404  \n",
              "3          0.100000       negative    0.0000  \n",
              "4          0.900000       negative    0.6908  \n",
              "...             ...            ...       ...  \n",
              "19677      0.512963       positive    0.5423  \n",
              "19678      0.400000       positive   -0.5826  \n",
              "19679      0.000000        neutral    0.0000  \n",
              "19680      1.000000        neutral   -0.2960  \n",
              "19681      0.501515       positive    0.0000  \n",
              "\n",
              "[19682 rows x 5 columns]"
            ],
            "text/html": [
              "\n",
              "  <div id=\"df-b9fdd1a4-4b57-4959-9e62-db62e1d397d1\">\n",
              "    <div class=\"colab-df-container\">\n",
              "      <div>\n",
              "<style scoped>\n",
              "    .dataframe tbody tr th:only-of-type {\n",
              "        vertical-align: middle;\n",
              "    }\n",
              "\n",
              "    .dataframe tbody tr th {\n",
              "        vertical-align: top;\n",
              "    }\n",
              "\n",
              "    .dataframe thead th {\n",
              "        text-align: right;\n",
              "    }\n",
              "</style>\n",
              "<table border=\"1\" class=\"dataframe\">\n",
              "  <thead>\n",
              "    <tr style=\"text-align: right;\">\n",
              "      <th></th>\n",
              "      <th>tweet</th>\n",
              "      <th>polarity</th>\n",
              "      <th>subjectivity</th>\n",
              "      <th>classification</th>\n",
              "      <th>compound</th>\n",
              "    </tr>\n",
              "  </thead>\n",
              "  <tbody>\n",
              "    <tr>\n",
              "      <th>0</th>\n",
              "      <td></td>\n",
              "      <td>0.000000</td>\n",
              "      <td>0.000000</td>\n",
              "      <td>neutral</td>\n",
              "      <td>0.0000</td>\n",
              "    </tr>\n",
              "    <tr>\n",
              "      <th>1</th>\n",
              "      <td>#nothingsstoppingus.</td>\n",
              "      <td>0.000000</td>\n",
              "      <td>0.000000</td>\n",
              "      <td>neutral</td>\n",
              "      <td>0.0000</td>\n",
              "    </tr>\n",
              "    <tr>\n",
              "      <th>2</th>\n",
              "      <td>if you think of the world as a collection of s...</td>\n",
              "      <td>0.211111</td>\n",
              "      <td>0.711111</td>\n",
              "      <td>positive</td>\n",
              "      <td>0.4404</td>\n",
              "    </tr>\n",
              "    <tr>\n",
              "      <th>3</th>\n",
              "      <td>i think tesco still has some but they are clos...</td>\n",
              "      <td>-0.100000</td>\n",
              "      <td>0.100000</td>\n",
              "      <td>negative</td>\n",
              "      <td>0.0000</td>\n",
              "    </tr>\n",
              "    <tr>\n",
              "      <th>4</th>\n",
              "      <td>tesco is the shit, except all of their sandwic...</td>\n",
              "      <td>-0.350000</td>\n",
              "      <td>0.900000</td>\n",
              "      <td>negative</td>\n",
              "      <td>0.6908</td>\n",
              "    </tr>\n",
              "    <tr>\n",
              "      <th>...</th>\n",
              "      <td>...</td>\n",
              "      <td>...</td>\n",
              "      <td>...</td>\n",
              "      <td>...</td>\n",
              "      <td>...</td>\n",
              "    </tr>\n",
              "    <tr>\n",
              "      <th>19677</th>\n",
              "      <td>ok tesco calm down</td>\n",
              "      <td>0.214815</td>\n",
              "      <td>0.512963</td>\n",
              "      <td>positive</td>\n",
              "      <td>0.5423</td>\n",
              "    </tr>\n",
              "    <tr>\n",
              "      <th>19678</th>\n",
              "      <td>what a day!! survived on 2 hours kip, nearly f...</td>\n",
              "      <td>0.125000</td>\n",
              "      <td>0.400000</td>\n",
              "      <td>positive</td>\n",
              "      <td>-0.5826</td>\n",
              "    </tr>\n",
              "    <tr>\n",
              "      <th>19679</th>\n",
              "      <td>looks a bit undercooked to me mate 👀</td>\n",
              "      <td>0.000000</td>\n",
              "      <td>0.000000</td>\n",
              "      <td>neutral</td>\n",
              "      <td>0.0000</td>\n",
              "    </tr>\n",
              "    <tr>\n",
              "      <th>19680</th>\n",
              "      <td>not having a tesco clubcard is a massive ick, ...</td>\n",
              "      <td>0.000000</td>\n",
              "      <td>1.000000</td>\n",
              "      <td>neutral</td>\n",
              "      <td>-0.2960</td>\n",
              "    </tr>\n",
              "    <tr>\n",
              "      <th>19681</th>\n",
              "      <td>this is a new one on me, 0 tills open because ...</td>\n",
              "      <td>0.162121</td>\n",
              "      <td>0.501515</td>\n",
              "      <td>positive</td>\n",
              "      <td>0.0000</td>\n",
              "    </tr>\n",
              "  </tbody>\n",
              "</table>\n",
              "<p>19682 rows × 5 columns</p>\n",
              "</div>\n",
              "      <button class=\"colab-df-convert\" onclick=\"convertToInteractive('df-b9fdd1a4-4b57-4959-9e62-db62e1d397d1')\"\n",
              "              title=\"Convert this dataframe to an interactive table.\"\n",
              "              style=\"display:none;\">\n",
              "        \n",
              "  <svg xmlns=\"http://www.w3.org/2000/svg\" height=\"24px\"viewBox=\"0 0 24 24\"\n",
              "       width=\"24px\">\n",
              "    <path d=\"M0 0h24v24H0V0z\" fill=\"none\"/>\n",
              "    <path d=\"M18.56 5.44l.94 2.06.94-2.06 2.06-.94-2.06-.94-.94-2.06-.94 2.06-2.06.94zm-11 1L8.5 8.5l.94-2.06 2.06-.94-2.06-.94L8.5 2.5l-.94 2.06-2.06.94zm10 10l.94 2.06.94-2.06 2.06-.94-2.06-.94-.94-2.06-.94 2.06-2.06.94z\"/><path d=\"M17.41 7.96l-1.37-1.37c-.4-.4-.92-.59-1.43-.59-.52 0-1.04.2-1.43.59L10.3 9.45l-7.72 7.72c-.78.78-.78 2.05 0 2.83L4 21.41c.39.39.9.59 1.41.59.51 0 1.02-.2 1.41-.59l7.78-7.78 2.81-2.81c.8-.78.8-2.07 0-2.86zM5.41 20L4 18.59l7.72-7.72 1.47 1.35L5.41 20z\"/>\n",
              "  </svg>\n",
              "      </button>\n",
              "      \n",
              "  <style>\n",
              "    .colab-df-container {\n",
              "      display:flex;\n",
              "      flex-wrap:wrap;\n",
              "      gap: 12px;\n",
              "    }\n",
              "\n",
              "    .colab-df-convert {\n",
              "      background-color: #E8F0FE;\n",
              "      border: none;\n",
              "      border-radius: 50%;\n",
              "      cursor: pointer;\n",
              "      display: none;\n",
              "      fill: #1967D2;\n",
              "      height: 32px;\n",
              "      padding: 0 0 0 0;\n",
              "      width: 32px;\n",
              "    }\n",
              "\n",
              "    .colab-df-convert:hover {\n",
              "      background-color: #E2EBFA;\n",
              "      box-shadow: 0px 1px 2px rgba(60, 64, 67, 0.3), 0px 1px 3px 1px rgba(60, 64, 67, 0.15);\n",
              "      fill: #174EA6;\n",
              "    }\n",
              "\n",
              "    [theme=dark] .colab-df-convert {\n",
              "      background-color: #3B4455;\n",
              "      fill: #D2E3FC;\n",
              "    }\n",
              "\n",
              "    [theme=dark] .colab-df-convert:hover {\n",
              "      background-color: #434B5C;\n",
              "      box-shadow: 0px 1px 3px 1px rgba(0, 0, 0, 0.15);\n",
              "      filter: drop-shadow(0px 1px 2px rgba(0, 0, 0, 0.3));\n",
              "      fill: #FFFFFF;\n",
              "    }\n",
              "  </style>\n",
              "\n",
              "      <script>\n",
              "        const buttonEl =\n",
              "          document.querySelector('#df-b9fdd1a4-4b57-4959-9e62-db62e1d397d1 button.colab-df-convert');\n",
              "        buttonEl.style.display =\n",
              "          google.colab.kernel.accessAllowed ? 'block' : 'none';\n",
              "\n",
              "        async function convertToInteractive(key) {\n",
              "          const element = document.querySelector('#df-b9fdd1a4-4b57-4959-9e62-db62e1d397d1');\n",
              "          const dataTable =\n",
              "            await google.colab.kernel.invokeFunction('convertToInteractive',\n",
              "                                                     [key], {});\n",
              "          if (!dataTable) return;\n",
              "\n",
              "          const docLinkHtml = 'Like what you see? Visit the ' +\n",
              "            '<a target=\"_blank\" href=https://colab.research.google.com/notebooks/data_table.ipynb>data table notebook</a>'\n",
              "            + ' to learn more about interactive tables.';\n",
              "          element.innerHTML = '';\n",
              "          dataTable['output_type'] = 'display_data';\n",
              "          await google.colab.output.renderOutput(dataTable, element);\n",
              "          const docLink = document.createElement('div');\n",
              "          docLink.innerHTML = docLinkHtml;\n",
              "          element.appendChild(docLink);\n",
              "        }\n",
              "      </script>\n",
              "    </div>\n",
              "  </div>\n",
              "  "
            ]
          },
          "metadata": {},
          "execution_count": 44
        }
      ]
    },
    {
      "cell_type": "code",
      "source": [
        "Tesco_Tweets['classification2'] = np.zeros(Tesco_Tweets.shape[0])\n",
        "Tesco_Tweets['classification2'] = np.where(Tesco_Tweets['compound'] >=0.05, 'positive', Tesco_Tweets['classification2'])\n",
        "Tesco_Tweets['classification2'] = np.where(Tesco_Tweets['compound'] <=-0.05, 'negative', Tesco_Tweets['classification2'])\n",
        "Tesco_Tweets['classification2'] = np.where((Tesco_Tweets['compound'] < 0.05) & (Tesco_Tweets['compound'] > -0.05), 'neutral', Tesco_Tweets['classification2'])"
      ],
      "metadata": {
        "id": "7PC0CahZr0n8"
      },
      "execution_count": 45,
      "outputs": []
    },
    {
      "cell_type": "code",
      "source": [
        "Tesco_Tweets"
      ],
      "metadata": {
        "colab": {
          "base_uri": "https://localhost:8080/",
          "height": 424
        },
        "id": "GQCZ0uakr0mO",
        "outputId": "d9843b0c-1714-42fc-e39c-16edb895de2b"
      },
      "execution_count": 46,
      "outputs": [
        {
          "output_type": "execute_result",
          "data": {
            "text/plain": [
              "                                                   tweet  polarity  \\\n",
              "0                                                         0.000000   \n",
              "1                                   #nothingsstoppingus.  0.000000   \n",
              "2      if you think of the world as a collection of s...  0.211111   \n",
              "3      i think tesco still has some but they are clos... -0.100000   \n",
              "4      tesco is the shit, except all of their sandwic... -0.350000   \n",
              "...                                                  ...       ...   \n",
              "19677                                 ok tesco calm down  0.214815   \n",
              "19678  what a day!! survived on 2 hours kip, nearly f...  0.125000   \n",
              "19679               looks a bit undercooked to me mate 👀  0.000000   \n",
              "19680  not having a tesco clubcard is a massive ick, ...  0.000000   \n",
              "19681  this is a new one on me, 0 tills open because ...  0.162121   \n",
              "\n",
              "       subjectivity classification  compound classification2  \n",
              "0          0.000000        neutral    0.0000         neutral  \n",
              "1          0.000000        neutral    0.0000         neutral  \n",
              "2          0.711111       positive    0.4404        positive  \n",
              "3          0.100000       negative    0.0000         neutral  \n",
              "4          0.900000       negative    0.6908        positive  \n",
              "...             ...            ...       ...             ...  \n",
              "19677      0.512963       positive    0.5423        positive  \n",
              "19678      0.400000       positive   -0.5826        negative  \n",
              "19679      0.000000        neutral    0.0000         neutral  \n",
              "19680      1.000000        neutral   -0.2960        negative  \n",
              "19681      0.501515       positive    0.0000         neutral  \n",
              "\n",
              "[19682 rows x 6 columns]"
            ],
            "text/html": [
              "\n",
              "  <div id=\"df-6ec6c172-28fd-456b-ba68-8199c2e757e6\">\n",
              "    <div class=\"colab-df-container\">\n",
              "      <div>\n",
              "<style scoped>\n",
              "    .dataframe tbody tr th:only-of-type {\n",
              "        vertical-align: middle;\n",
              "    }\n",
              "\n",
              "    .dataframe tbody tr th {\n",
              "        vertical-align: top;\n",
              "    }\n",
              "\n",
              "    .dataframe thead th {\n",
              "        text-align: right;\n",
              "    }\n",
              "</style>\n",
              "<table border=\"1\" class=\"dataframe\">\n",
              "  <thead>\n",
              "    <tr style=\"text-align: right;\">\n",
              "      <th></th>\n",
              "      <th>tweet</th>\n",
              "      <th>polarity</th>\n",
              "      <th>subjectivity</th>\n",
              "      <th>classification</th>\n",
              "      <th>compound</th>\n",
              "      <th>classification2</th>\n",
              "    </tr>\n",
              "  </thead>\n",
              "  <tbody>\n",
              "    <tr>\n",
              "      <th>0</th>\n",
              "      <td></td>\n",
              "      <td>0.000000</td>\n",
              "      <td>0.000000</td>\n",
              "      <td>neutral</td>\n",
              "      <td>0.0000</td>\n",
              "      <td>neutral</td>\n",
              "    </tr>\n",
              "    <tr>\n",
              "      <th>1</th>\n",
              "      <td>#nothingsstoppingus.</td>\n",
              "      <td>0.000000</td>\n",
              "      <td>0.000000</td>\n",
              "      <td>neutral</td>\n",
              "      <td>0.0000</td>\n",
              "      <td>neutral</td>\n",
              "    </tr>\n",
              "    <tr>\n",
              "      <th>2</th>\n",
              "      <td>if you think of the world as a collection of s...</td>\n",
              "      <td>0.211111</td>\n",
              "      <td>0.711111</td>\n",
              "      <td>positive</td>\n",
              "      <td>0.4404</td>\n",
              "      <td>positive</td>\n",
              "    </tr>\n",
              "    <tr>\n",
              "      <th>3</th>\n",
              "      <td>i think tesco still has some but they are clos...</td>\n",
              "      <td>-0.100000</td>\n",
              "      <td>0.100000</td>\n",
              "      <td>negative</td>\n",
              "      <td>0.0000</td>\n",
              "      <td>neutral</td>\n",
              "    </tr>\n",
              "    <tr>\n",
              "      <th>4</th>\n",
              "      <td>tesco is the shit, except all of their sandwic...</td>\n",
              "      <td>-0.350000</td>\n",
              "      <td>0.900000</td>\n",
              "      <td>negative</td>\n",
              "      <td>0.6908</td>\n",
              "      <td>positive</td>\n",
              "    </tr>\n",
              "    <tr>\n",
              "      <th>...</th>\n",
              "      <td>...</td>\n",
              "      <td>...</td>\n",
              "      <td>...</td>\n",
              "      <td>...</td>\n",
              "      <td>...</td>\n",
              "      <td>...</td>\n",
              "    </tr>\n",
              "    <tr>\n",
              "      <th>19677</th>\n",
              "      <td>ok tesco calm down</td>\n",
              "      <td>0.214815</td>\n",
              "      <td>0.512963</td>\n",
              "      <td>positive</td>\n",
              "      <td>0.5423</td>\n",
              "      <td>positive</td>\n",
              "    </tr>\n",
              "    <tr>\n",
              "      <th>19678</th>\n",
              "      <td>what a day!! survived on 2 hours kip, nearly f...</td>\n",
              "      <td>0.125000</td>\n",
              "      <td>0.400000</td>\n",
              "      <td>positive</td>\n",
              "      <td>-0.5826</td>\n",
              "      <td>negative</td>\n",
              "    </tr>\n",
              "    <tr>\n",
              "      <th>19679</th>\n",
              "      <td>looks a bit undercooked to me mate 👀</td>\n",
              "      <td>0.000000</td>\n",
              "      <td>0.000000</td>\n",
              "      <td>neutral</td>\n",
              "      <td>0.0000</td>\n",
              "      <td>neutral</td>\n",
              "    </tr>\n",
              "    <tr>\n",
              "      <th>19680</th>\n",
              "      <td>not having a tesco clubcard is a massive ick, ...</td>\n",
              "      <td>0.000000</td>\n",
              "      <td>1.000000</td>\n",
              "      <td>neutral</td>\n",
              "      <td>-0.2960</td>\n",
              "      <td>negative</td>\n",
              "    </tr>\n",
              "    <tr>\n",
              "      <th>19681</th>\n",
              "      <td>this is a new one on me, 0 tills open because ...</td>\n",
              "      <td>0.162121</td>\n",
              "      <td>0.501515</td>\n",
              "      <td>positive</td>\n",
              "      <td>0.0000</td>\n",
              "      <td>neutral</td>\n",
              "    </tr>\n",
              "  </tbody>\n",
              "</table>\n",
              "<p>19682 rows × 6 columns</p>\n",
              "</div>\n",
              "      <button class=\"colab-df-convert\" onclick=\"convertToInteractive('df-6ec6c172-28fd-456b-ba68-8199c2e757e6')\"\n",
              "              title=\"Convert this dataframe to an interactive table.\"\n",
              "              style=\"display:none;\">\n",
              "        \n",
              "  <svg xmlns=\"http://www.w3.org/2000/svg\" height=\"24px\"viewBox=\"0 0 24 24\"\n",
              "       width=\"24px\">\n",
              "    <path d=\"M0 0h24v24H0V0z\" fill=\"none\"/>\n",
              "    <path d=\"M18.56 5.44l.94 2.06.94-2.06 2.06-.94-2.06-.94-.94-2.06-.94 2.06-2.06.94zm-11 1L8.5 8.5l.94-2.06 2.06-.94-2.06-.94L8.5 2.5l-.94 2.06-2.06.94zm10 10l.94 2.06.94-2.06 2.06-.94-2.06-.94-.94-2.06-.94 2.06-2.06.94z\"/><path d=\"M17.41 7.96l-1.37-1.37c-.4-.4-.92-.59-1.43-.59-.52 0-1.04.2-1.43.59L10.3 9.45l-7.72 7.72c-.78.78-.78 2.05 0 2.83L4 21.41c.39.39.9.59 1.41.59.51 0 1.02-.2 1.41-.59l7.78-7.78 2.81-2.81c.8-.78.8-2.07 0-2.86zM5.41 20L4 18.59l7.72-7.72 1.47 1.35L5.41 20z\"/>\n",
              "  </svg>\n",
              "      </button>\n",
              "      \n",
              "  <style>\n",
              "    .colab-df-container {\n",
              "      display:flex;\n",
              "      flex-wrap:wrap;\n",
              "      gap: 12px;\n",
              "    }\n",
              "\n",
              "    .colab-df-convert {\n",
              "      background-color: #E8F0FE;\n",
              "      border: none;\n",
              "      border-radius: 50%;\n",
              "      cursor: pointer;\n",
              "      display: none;\n",
              "      fill: #1967D2;\n",
              "      height: 32px;\n",
              "      padding: 0 0 0 0;\n",
              "      width: 32px;\n",
              "    }\n",
              "\n",
              "    .colab-df-convert:hover {\n",
              "      background-color: #E2EBFA;\n",
              "      box-shadow: 0px 1px 2px rgba(60, 64, 67, 0.3), 0px 1px 3px 1px rgba(60, 64, 67, 0.15);\n",
              "      fill: #174EA6;\n",
              "    }\n",
              "\n",
              "    [theme=dark] .colab-df-convert {\n",
              "      background-color: #3B4455;\n",
              "      fill: #D2E3FC;\n",
              "    }\n",
              "\n",
              "    [theme=dark] .colab-df-convert:hover {\n",
              "      background-color: #434B5C;\n",
              "      box-shadow: 0px 1px 3px 1px rgba(0, 0, 0, 0.15);\n",
              "      filter: drop-shadow(0px 1px 2px rgba(0, 0, 0, 0.3));\n",
              "      fill: #FFFFFF;\n",
              "    }\n",
              "  </style>\n",
              "\n",
              "      <script>\n",
              "        const buttonEl =\n",
              "          document.querySelector('#df-6ec6c172-28fd-456b-ba68-8199c2e757e6 button.colab-df-convert');\n",
              "        buttonEl.style.display =\n",
              "          google.colab.kernel.accessAllowed ? 'block' : 'none';\n",
              "\n",
              "        async function convertToInteractive(key) {\n",
              "          const element = document.querySelector('#df-6ec6c172-28fd-456b-ba68-8199c2e757e6');\n",
              "          const dataTable =\n",
              "            await google.colab.kernel.invokeFunction('convertToInteractive',\n",
              "                                                     [key], {});\n",
              "          if (!dataTable) return;\n",
              "\n",
              "          const docLinkHtml = 'Like what you see? Visit the ' +\n",
              "            '<a target=\"_blank\" href=https://colab.research.google.com/notebooks/data_table.ipynb>data table notebook</a>'\n",
              "            + ' to learn more about interactive tables.';\n",
              "          element.innerHTML = '';\n",
              "          dataTable['output_type'] = 'display_data';\n",
              "          await google.colab.output.renderOutput(dataTable, element);\n",
              "          const docLink = document.createElement('div');\n",
              "          docLink.innerHTML = docLinkHtml;\n",
              "          element.appendChild(docLink);\n",
              "        }\n",
              "      </script>\n",
              "    </div>\n",
              "  </div>\n",
              "  "
            ]
          },
          "metadata": {},
          "execution_count": 46
        }
      ]
    },
    {
      "cell_type": "code",
      "source": [
        "Tesco_Tweets.classification2.value_counts()"
      ],
      "metadata": {
        "colab": {
          "base_uri": "https://localhost:8080/"
        },
        "id": "9sm3ywp9r0kL",
        "outputId": "44ff348c-0695-452a-cd31-dc3cb83dae47"
      },
      "execution_count": 47,
      "outputs": [
        {
          "output_type": "execute_result",
          "data": {
            "text/plain": [
              "positive    8493\n",
              "neutral     6618\n",
              "negative    4571\n",
              "Name: classification2, dtype: int64"
            ]
          },
          "metadata": {},
          "execution_count": 47
        }
      ]
    },
    {
      "cell_type": "code",
      "source": [
        "#further look into positive Vader classification2 \n",
        "print(Tesco_Tweets[Tesco_Tweets.classification2 == 'positive'].reset_index()['tweet'][1])\n",
        "print(Tesco_Tweets[Tesco_Tweets.classification2 == 'positive'].reset_index()['tweet'][33])\n",
        "print(Tesco_Tweets[Tesco_Tweets.classification2 == 'positive'].reset_index()['tweet'][4200])\n",
        "print(Tesco_Tweets[Tesco_Tweets.classification2 == 'positive'].reset_index()['tweet'][955])\n",
        "print(Tesco_Tweets[Tesco_Tweets.classification2 == 'positive'].reset_index()['tweet'][5000])"
      ],
      "metadata": {
        "colab": {
          "base_uri": "https://localhost:8080/"
        },
        "id": "GZvN7g9Ar0iK",
        "outputId": "ba3b32be-dbe0-4d4c-8447-0234db9fd1f2"
      },
      "execution_count": 48,
      "outputs": [
        {
          "output_type": "stream",
          "name": "stdout",
          "text": [
            "tesco is the shit, except all of their sandwiches always have some weird jelly on them ha.\n",
            "whether or not you've pooped in a tesco, this thread is important.\n",
            "this is so funny bc there’s a mini tesco, a mini sainsburys and a londis at a walkable distance from where i live - but do i ever go there ? not unless my parents need time to go buy milk or smth 💀\n",
            "hi coco, we appreciate that you have sent that through. i will look into the recipe change now and get back in touch when i have more information on this. thanks - aiden\n",
            "special offers. waves car wash. tesco extra hanley. stoke-on-trent. autoglym. @ waves car wash\n"
          ]
        }
      ]
    },
    {
      "cell_type": "code",
      "source": [
        "#further look into neutral Vader classification2 \n",
        "print(Tesco_Tweets[Tesco_Tweets.classification2 == 'neutral'].reset_index()['tweet'][300])\n",
        "print(Tesco_Tweets[Tesco_Tweets.classification2 == 'neutral'].reset_index()['tweet'][150])\n",
        "print(Tesco_Tweets[Tesco_Tweets.classification2 == 'neutral'].reset_index()['tweet'][50])\n",
        "print(Tesco_Tweets[Tesco_Tweets.classification2 == 'neutral'].reset_index()['tweet'][500])\n",
        "print(Tesco_Tweets[Tesco_Tweets.classification2 == 'neutral'].reset_index()['tweet'][680])"
      ],
      "metadata": {
        "colab": {
          "base_uri": "https://localhost:8080/"
        },
        "id": "AIJJqJClwau8",
        "outputId": "ce1be04f-0aaf-47e5-fc80-deb4ffb20455"
      },
      "execution_count": 49,
      "outputs": [
        {
          "output_type": "stream",
          "name": "stdout",
          "text": [
            "i can’t say about tesco - don’t shop there i’m afraid. i would assume the choice (best seller) and sponsored (paid for) is the same premise.\n",
            "proper want fizzy drink from tesco but it’s not open😡\n",
            "costa chap, nero nonce, lidl lad, tesco twink, waitrose weenie\n",
            "did you give him a tesco trolly token\n",
            "what's happened to your fruit drops? haven't had any in for weeks. 😬\n"
          ]
        }
      ]
    },
    {
      "cell_type": "code",
      "source": [
        "#further look into negative Vader classification2 \n",
        "print(Tesco_Tweets[Tesco_Tweets.classification2 == 'negative'].reset_index()['tweet'][100])\n",
        "print(Tesco_Tweets[Tesco_Tweets.classification2 == 'negative'].reset_index()['tweet'][250])\n",
        "print(Tesco_Tweets[Tesco_Tweets.classification2 == 'negative'].reset_index()['tweet'][700])\n",
        "print(Tesco_Tweets[Tesco_Tweets.classification2 == 'negative'].reset_index()['tweet'][2100])\n",
        "print(Tesco_Tweets[Tesco_Tweets.classification2 == 'negative'].reset_index()['tweet'][1350])"
      ],
      "metadata": {
        "colab": {
          "base_uri": "https://localhost:8080/"
        },
        "id": "Dy3a2Waqwarn",
        "outputId": "97b036b5-f0c7-43ae-f718-05c28dec0013"
      },
      "execution_count": 50,
      "outputs": [
        {
          "output_type": "stream",
          "name": "stdout",
          "text": [
            "i resent the video recorders at the self checkouts at various retailers. i avoid them when ever i can. if tesco bring in facial-recognition-only payment, they ain't getting any of my business. it's a completely unnecessary development.\n",
            "that will be virgin media pushing for additional revenue. they are known to be greedy. tesco mobile is an mvno (mobile virtual network operator) and is owned 50/50 by tesco &amp; virgin/o2 &amp; uses the o2 network as a carrier\n",
            "avoid tesco unless you’re looking for a swedish blonde 😎\n",
            "i'm confused but strangely impressed that someone managed to steal a set of giant washing machines from outside tesco in celbridge\n",
            "probably took about 40-45mins to get us back - dropped off at george square - if going for bus after then i would ask guy in high viz jacket at the bus stop across from tesco which queue to join as was a bit of chaos to start with queues all over the place\n"
          ]
        }
      ]
    },
    {
      "cell_type": "code",
      "source": [
        "#crosstab function for comparing the classification of tweets \n",
        "pd.crosstab(Tesco_Tweets['classification'],Tesco_Tweets['classification2'])"
      ],
      "metadata": {
        "colab": {
          "base_uri": "https://localhost:8080/",
          "height": 175
        },
        "id": "R9yqJqZwcrnV",
        "outputId": "928fdffb-d186-4b73-8e91-24f7ffc55172"
      },
      "execution_count": 51,
      "outputs": [
        {
          "output_type": "execute_result",
          "data": {
            "text/plain": [
              "classification2  negative  neutral  positive\n",
              "classification                              \n",
              "negative             1871      721       961\n",
              "neutral              1627     4684      2125\n",
              "positive             1073     1213      5407"
            ],
            "text/html": [
              "\n",
              "  <div id=\"df-1998561e-fc15-4f54-87c2-c871e5910aaa\">\n",
              "    <div class=\"colab-df-container\">\n",
              "      <div>\n",
              "<style scoped>\n",
              "    .dataframe tbody tr th:only-of-type {\n",
              "        vertical-align: middle;\n",
              "    }\n",
              "\n",
              "    .dataframe tbody tr th {\n",
              "        vertical-align: top;\n",
              "    }\n",
              "\n",
              "    .dataframe thead th {\n",
              "        text-align: right;\n",
              "    }\n",
              "</style>\n",
              "<table border=\"1\" class=\"dataframe\">\n",
              "  <thead>\n",
              "    <tr style=\"text-align: right;\">\n",
              "      <th>classification2</th>\n",
              "      <th>negative</th>\n",
              "      <th>neutral</th>\n",
              "      <th>positive</th>\n",
              "    </tr>\n",
              "    <tr>\n",
              "      <th>classification</th>\n",
              "      <th></th>\n",
              "      <th></th>\n",
              "      <th></th>\n",
              "    </tr>\n",
              "  </thead>\n",
              "  <tbody>\n",
              "    <tr>\n",
              "      <th>negative</th>\n",
              "      <td>1871</td>\n",
              "      <td>721</td>\n",
              "      <td>961</td>\n",
              "    </tr>\n",
              "    <tr>\n",
              "      <th>neutral</th>\n",
              "      <td>1627</td>\n",
              "      <td>4684</td>\n",
              "      <td>2125</td>\n",
              "    </tr>\n",
              "    <tr>\n",
              "      <th>positive</th>\n",
              "      <td>1073</td>\n",
              "      <td>1213</td>\n",
              "      <td>5407</td>\n",
              "    </tr>\n",
              "  </tbody>\n",
              "</table>\n",
              "</div>\n",
              "      <button class=\"colab-df-convert\" onclick=\"convertToInteractive('df-1998561e-fc15-4f54-87c2-c871e5910aaa')\"\n",
              "              title=\"Convert this dataframe to an interactive table.\"\n",
              "              style=\"display:none;\">\n",
              "        \n",
              "  <svg xmlns=\"http://www.w3.org/2000/svg\" height=\"24px\"viewBox=\"0 0 24 24\"\n",
              "       width=\"24px\">\n",
              "    <path d=\"M0 0h24v24H0V0z\" fill=\"none\"/>\n",
              "    <path d=\"M18.56 5.44l.94 2.06.94-2.06 2.06-.94-2.06-.94-.94-2.06-.94 2.06-2.06.94zm-11 1L8.5 8.5l.94-2.06 2.06-.94-2.06-.94L8.5 2.5l-.94 2.06-2.06.94zm10 10l.94 2.06.94-2.06 2.06-.94-2.06-.94-.94-2.06-.94 2.06-2.06.94z\"/><path d=\"M17.41 7.96l-1.37-1.37c-.4-.4-.92-.59-1.43-.59-.52 0-1.04.2-1.43.59L10.3 9.45l-7.72 7.72c-.78.78-.78 2.05 0 2.83L4 21.41c.39.39.9.59 1.41.59.51 0 1.02-.2 1.41-.59l7.78-7.78 2.81-2.81c.8-.78.8-2.07 0-2.86zM5.41 20L4 18.59l7.72-7.72 1.47 1.35L5.41 20z\"/>\n",
              "  </svg>\n",
              "      </button>\n",
              "      \n",
              "  <style>\n",
              "    .colab-df-container {\n",
              "      display:flex;\n",
              "      flex-wrap:wrap;\n",
              "      gap: 12px;\n",
              "    }\n",
              "\n",
              "    .colab-df-convert {\n",
              "      background-color: #E8F0FE;\n",
              "      border: none;\n",
              "      border-radius: 50%;\n",
              "      cursor: pointer;\n",
              "      display: none;\n",
              "      fill: #1967D2;\n",
              "      height: 32px;\n",
              "      padding: 0 0 0 0;\n",
              "      width: 32px;\n",
              "    }\n",
              "\n",
              "    .colab-df-convert:hover {\n",
              "      background-color: #E2EBFA;\n",
              "      box-shadow: 0px 1px 2px rgba(60, 64, 67, 0.3), 0px 1px 3px 1px rgba(60, 64, 67, 0.15);\n",
              "      fill: #174EA6;\n",
              "    }\n",
              "\n",
              "    [theme=dark] .colab-df-convert {\n",
              "      background-color: #3B4455;\n",
              "      fill: #D2E3FC;\n",
              "    }\n",
              "\n",
              "    [theme=dark] .colab-df-convert:hover {\n",
              "      background-color: #434B5C;\n",
              "      box-shadow: 0px 1px 3px 1px rgba(0, 0, 0, 0.15);\n",
              "      filter: drop-shadow(0px 1px 2px rgba(0, 0, 0, 0.3));\n",
              "      fill: #FFFFFF;\n",
              "    }\n",
              "  </style>\n",
              "\n",
              "      <script>\n",
              "        const buttonEl =\n",
              "          document.querySelector('#df-1998561e-fc15-4f54-87c2-c871e5910aaa button.colab-df-convert');\n",
              "        buttonEl.style.display =\n",
              "          google.colab.kernel.accessAllowed ? 'block' : 'none';\n",
              "\n",
              "        async function convertToInteractive(key) {\n",
              "          const element = document.querySelector('#df-1998561e-fc15-4f54-87c2-c871e5910aaa');\n",
              "          const dataTable =\n",
              "            await google.colab.kernel.invokeFunction('convertToInteractive',\n",
              "                                                     [key], {});\n",
              "          if (!dataTable) return;\n",
              "\n",
              "          const docLinkHtml = 'Like what you see? Visit the ' +\n",
              "            '<a target=\"_blank\" href=https://colab.research.google.com/notebooks/data_table.ipynb>data table notebook</a>'\n",
              "            + ' to learn more about interactive tables.';\n",
              "          element.innerHTML = '';\n",
              "          dataTable['output_type'] = 'display_data';\n",
              "          await google.colab.output.renderOutput(dataTable, element);\n",
              "          const docLink = document.createElement('div');\n",
              "          docLink.innerHTML = docLinkHtml;\n",
              "          element.appendChild(docLink);\n",
              "        }\n",
              "      </script>\n",
              "    </div>\n",
              "  </div>\n",
              "  "
            ]
          },
          "metadata": {},
          "execution_count": 51
        }
      ]
    },
    {
      "cell_type": "markdown",
      "source": [
        "**Inspect the subjectivity**"
      ],
      "metadata": {
        "id": "9BoAEYXC2dHL"
      }
    },
    {
      "cell_type": "code",
      "source": [
        "Tesco_Tweets['classification3'] = np.zeros(Tesco_Tweets.shape[0])\n",
        "Tesco_Tweets['classification3'] = np.where(Tesco_Tweets['subjectivity'] >0.5, 'Subjective', Tesco_Tweets['classification3'])\n",
        "Tesco_Tweets['classification3'] = np.where(Tesco_Tweets['subjectivity'] <=0.5, 'Objective', Tesco_Tweets['classification3'])"
      ],
      "metadata": {
        "id": "S6rzLYZvwapm"
      },
      "execution_count": 52,
      "outputs": []
    },
    {
      "cell_type": "code",
      "source": [
        "Tesco_Tweets"
      ],
      "metadata": {
        "colab": {
          "base_uri": "https://localhost:8080/",
          "height": 424
        },
        "id": "upTF5cUQm6GU",
        "outputId": "b99edc75-8207-480a-bfec-94a5ac4aed0a"
      },
      "execution_count": 53,
      "outputs": [
        {
          "output_type": "execute_result",
          "data": {
            "text/plain": [
              "                                                   tweet  polarity  \\\n",
              "0                                                         0.000000   \n",
              "1                                   #nothingsstoppingus.  0.000000   \n",
              "2      if you think of the world as a collection of s...  0.211111   \n",
              "3      i think tesco still has some but they are clos... -0.100000   \n",
              "4      tesco is the shit, except all of their sandwic... -0.350000   \n",
              "...                                                  ...       ...   \n",
              "19677                                 ok tesco calm down  0.214815   \n",
              "19678  what a day!! survived on 2 hours kip, nearly f...  0.125000   \n",
              "19679               looks a bit undercooked to me mate 👀  0.000000   \n",
              "19680  not having a tesco clubcard is a massive ick, ...  0.000000   \n",
              "19681  this is a new one on me, 0 tills open because ...  0.162121   \n",
              "\n",
              "       subjectivity classification  compound classification2 classification3  \n",
              "0          0.000000        neutral    0.0000         neutral       Objective  \n",
              "1          0.000000        neutral    0.0000         neutral       Objective  \n",
              "2          0.711111       positive    0.4404        positive      Subjective  \n",
              "3          0.100000       negative    0.0000         neutral       Objective  \n",
              "4          0.900000       negative    0.6908        positive      Subjective  \n",
              "...             ...            ...       ...             ...             ...  \n",
              "19677      0.512963       positive    0.5423        positive      Subjective  \n",
              "19678      0.400000       positive   -0.5826        negative       Objective  \n",
              "19679      0.000000        neutral    0.0000         neutral       Objective  \n",
              "19680      1.000000        neutral   -0.2960        negative      Subjective  \n",
              "19681      0.501515       positive    0.0000         neutral      Subjective  \n",
              "\n",
              "[19682 rows x 7 columns]"
            ],
            "text/html": [
              "\n",
              "  <div id=\"df-f0aa2dae-5cf4-4e1f-b4d8-c8c0c07f69f5\">\n",
              "    <div class=\"colab-df-container\">\n",
              "      <div>\n",
              "<style scoped>\n",
              "    .dataframe tbody tr th:only-of-type {\n",
              "        vertical-align: middle;\n",
              "    }\n",
              "\n",
              "    .dataframe tbody tr th {\n",
              "        vertical-align: top;\n",
              "    }\n",
              "\n",
              "    .dataframe thead th {\n",
              "        text-align: right;\n",
              "    }\n",
              "</style>\n",
              "<table border=\"1\" class=\"dataframe\">\n",
              "  <thead>\n",
              "    <tr style=\"text-align: right;\">\n",
              "      <th></th>\n",
              "      <th>tweet</th>\n",
              "      <th>polarity</th>\n",
              "      <th>subjectivity</th>\n",
              "      <th>classification</th>\n",
              "      <th>compound</th>\n",
              "      <th>classification2</th>\n",
              "      <th>classification3</th>\n",
              "    </tr>\n",
              "  </thead>\n",
              "  <tbody>\n",
              "    <tr>\n",
              "      <th>0</th>\n",
              "      <td></td>\n",
              "      <td>0.000000</td>\n",
              "      <td>0.000000</td>\n",
              "      <td>neutral</td>\n",
              "      <td>0.0000</td>\n",
              "      <td>neutral</td>\n",
              "      <td>Objective</td>\n",
              "    </tr>\n",
              "    <tr>\n",
              "      <th>1</th>\n",
              "      <td>#nothingsstoppingus.</td>\n",
              "      <td>0.000000</td>\n",
              "      <td>0.000000</td>\n",
              "      <td>neutral</td>\n",
              "      <td>0.0000</td>\n",
              "      <td>neutral</td>\n",
              "      <td>Objective</td>\n",
              "    </tr>\n",
              "    <tr>\n",
              "      <th>2</th>\n",
              "      <td>if you think of the world as a collection of s...</td>\n",
              "      <td>0.211111</td>\n",
              "      <td>0.711111</td>\n",
              "      <td>positive</td>\n",
              "      <td>0.4404</td>\n",
              "      <td>positive</td>\n",
              "      <td>Subjective</td>\n",
              "    </tr>\n",
              "    <tr>\n",
              "      <th>3</th>\n",
              "      <td>i think tesco still has some but they are clos...</td>\n",
              "      <td>-0.100000</td>\n",
              "      <td>0.100000</td>\n",
              "      <td>negative</td>\n",
              "      <td>0.0000</td>\n",
              "      <td>neutral</td>\n",
              "      <td>Objective</td>\n",
              "    </tr>\n",
              "    <tr>\n",
              "      <th>4</th>\n",
              "      <td>tesco is the shit, except all of their sandwic...</td>\n",
              "      <td>-0.350000</td>\n",
              "      <td>0.900000</td>\n",
              "      <td>negative</td>\n",
              "      <td>0.6908</td>\n",
              "      <td>positive</td>\n",
              "      <td>Subjective</td>\n",
              "    </tr>\n",
              "    <tr>\n",
              "      <th>...</th>\n",
              "      <td>...</td>\n",
              "      <td>...</td>\n",
              "      <td>...</td>\n",
              "      <td>...</td>\n",
              "      <td>...</td>\n",
              "      <td>...</td>\n",
              "      <td>...</td>\n",
              "    </tr>\n",
              "    <tr>\n",
              "      <th>19677</th>\n",
              "      <td>ok tesco calm down</td>\n",
              "      <td>0.214815</td>\n",
              "      <td>0.512963</td>\n",
              "      <td>positive</td>\n",
              "      <td>0.5423</td>\n",
              "      <td>positive</td>\n",
              "      <td>Subjective</td>\n",
              "    </tr>\n",
              "    <tr>\n",
              "      <th>19678</th>\n",
              "      <td>what a day!! survived on 2 hours kip, nearly f...</td>\n",
              "      <td>0.125000</td>\n",
              "      <td>0.400000</td>\n",
              "      <td>positive</td>\n",
              "      <td>-0.5826</td>\n",
              "      <td>negative</td>\n",
              "      <td>Objective</td>\n",
              "    </tr>\n",
              "    <tr>\n",
              "      <th>19679</th>\n",
              "      <td>looks a bit undercooked to me mate 👀</td>\n",
              "      <td>0.000000</td>\n",
              "      <td>0.000000</td>\n",
              "      <td>neutral</td>\n",
              "      <td>0.0000</td>\n",
              "      <td>neutral</td>\n",
              "      <td>Objective</td>\n",
              "    </tr>\n",
              "    <tr>\n",
              "      <th>19680</th>\n",
              "      <td>not having a tesco clubcard is a massive ick, ...</td>\n",
              "      <td>0.000000</td>\n",
              "      <td>1.000000</td>\n",
              "      <td>neutral</td>\n",
              "      <td>-0.2960</td>\n",
              "      <td>negative</td>\n",
              "      <td>Subjective</td>\n",
              "    </tr>\n",
              "    <tr>\n",
              "      <th>19681</th>\n",
              "      <td>this is a new one on me, 0 tills open because ...</td>\n",
              "      <td>0.162121</td>\n",
              "      <td>0.501515</td>\n",
              "      <td>positive</td>\n",
              "      <td>0.0000</td>\n",
              "      <td>neutral</td>\n",
              "      <td>Subjective</td>\n",
              "    </tr>\n",
              "  </tbody>\n",
              "</table>\n",
              "<p>19682 rows × 7 columns</p>\n",
              "</div>\n",
              "      <button class=\"colab-df-convert\" onclick=\"convertToInteractive('df-f0aa2dae-5cf4-4e1f-b4d8-c8c0c07f69f5')\"\n",
              "              title=\"Convert this dataframe to an interactive table.\"\n",
              "              style=\"display:none;\">\n",
              "        \n",
              "  <svg xmlns=\"http://www.w3.org/2000/svg\" height=\"24px\"viewBox=\"0 0 24 24\"\n",
              "       width=\"24px\">\n",
              "    <path d=\"M0 0h24v24H0V0z\" fill=\"none\"/>\n",
              "    <path d=\"M18.56 5.44l.94 2.06.94-2.06 2.06-.94-2.06-.94-.94-2.06-.94 2.06-2.06.94zm-11 1L8.5 8.5l.94-2.06 2.06-.94-2.06-.94L8.5 2.5l-.94 2.06-2.06.94zm10 10l.94 2.06.94-2.06 2.06-.94-2.06-.94-.94-2.06-.94 2.06-2.06.94z\"/><path d=\"M17.41 7.96l-1.37-1.37c-.4-.4-.92-.59-1.43-.59-.52 0-1.04.2-1.43.59L10.3 9.45l-7.72 7.72c-.78.78-.78 2.05 0 2.83L4 21.41c.39.39.9.59 1.41.59.51 0 1.02-.2 1.41-.59l7.78-7.78 2.81-2.81c.8-.78.8-2.07 0-2.86zM5.41 20L4 18.59l7.72-7.72 1.47 1.35L5.41 20z\"/>\n",
              "  </svg>\n",
              "      </button>\n",
              "      \n",
              "  <style>\n",
              "    .colab-df-container {\n",
              "      display:flex;\n",
              "      flex-wrap:wrap;\n",
              "      gap: 12px;\n",
              "    }\n",
              "\n",
              "    .colab-df-convert {\n",
              "      background-color: #E8F0FE;\n",
              "      border: none;\n",
              "      border-radius: 50%;\n",
              "      cursor: pointer;\n",
              "      display: none;\n",
              "      fill: #1967D2;\n",
              "      height: 32px;\n",
              "      padding: 0 0 0 0;\n",
              "      width: 32px;\n",
              "    }\n",
              "\n",
              "    .colab-df-convert:hover {\n",
              "      background-color: #E2EBFA;\n",
              "      box-shadow: 0px 1px 2px rgba(60, 64, 67, 0.3), 0px 1px 3px 1px rgba(60, 64, 67, 0.15);\n",
              "      fill: #174EA6;\n",
              "    }\n",
              "\n",
              "    [theme=dark] .colab-df-convert {\n",
              "      background-color: #3B4455;\n",
              "      fill: #D2E3FC;\n",
              "    }\n",
              "\n",
              "    [theme=dark] .colab-df-convert:hover {\n",
              "      background-color: #434B5C;\n",
              "      box-shadow: 0px 1px 3px 1px rgba(0, 0, 0, 0.15);\n",
              "      filter: drop-shadow(0px 1px 2px rgba(0, 0, 0, 0.3));\n",
              "      fill: #FFFFFF;\n",
              "    }\n",
              "  </style>\n",
              "\n",
              "      <script>\n",
              "        const buttonEl =\n",
              "          document.querySelector('#df-f0aa2dae-5cf4-4e1f-b4d8-c8c0c07f69f5 button.colab-df-convert');\n",
              "        buttonEl.style.display =\n",
              "          google.colab.kernel.accessAllowed ? 'block' : 'none';\n",
              "\n",
              "        async function convertToInteractive(key) {\n",
              "          const element = document.querySelector('#df-f0aa2dae-5cf4-4e1f-b4d8-c8c0c07f69f5');\n",
              "          const dataTable =\n",
              "            await google.colab.kernel.invokeFunction('convertToInteractive',\n",
              "                                                     [key], {});\n",
              "          if (!dataTable) return;\n",
              "\n",
              "          const docLinkHtml = 'Like what you see? Visit the ' +\n",
              "            '<a target=\"_blank\" href=https://colab.research.google.com/notebooks/data_table.ipynb>data table notebook</a>'\n",
              "            + ' to learn more about interactive tables.';\n",
              "          element.innerHTML = '';\n",
              "          dataTable['output_type'] = 'display_data';\n",
              "          await google.colab.output.renderOutput(dataTable, element);\n",
              "          const docLink = document.createElement('div');\n",
              "          docLink.innerHTML = docLinkHtml;\n",
              "          element.appendChild(docLink);\n",
              "        }\n",
              "      </script>\n",
              "    </div>\n",
              "  </div>\n",
              "  "
            ]
          },
          "metadata": {},
          "execution_count": 53
        }
      ]
    },
    {
      "cell_type": "markdown",
      "source": [
        "**Randon inspection of tweet subjectivity and objectivity**"
      ],
      "metadata": {
        "id": "RAT_mpvMi1cO"
      }
    },
    {
      "cell_type": "code",
      "source": [
        "print(Tesco_Tweets[Tesco_Tweets.classification3 == 'Objective'].reset_index()['tweet'][120])\n",
        "print(Tesco_Tweets[Tesco_Tweets.classification3 == 'Objective'].reset_index()['tweet'][200])\n",
        "print(Tesco_Tweets[Tesco_Tweets.classification3 == 'Objective'].reset_index()['tweet'][300])\n",
        "print(Tesco_Tweets[Tesco_Tweets.classification3 == 'Objective'].reset_index()['tweet'][400])\n",
        "print(Tesco_Tweets[Tesco_Tweets.classification3 == 'Objective'].reset_index()['tweet'][500])"
      ],
      "metadata": {
        "colab": {
          "base_uri": "https://localhost:8080/"
        },
        "id": "7jfndfxonyDJ",
        "outputId": "7921626e-5de0-48f8-f1bd-b68f3c0f95f7"
      },
      "execution_count": 54,
      "outputs": [
        {
          "output_type": "stream",
          "name": "stdout",
          "text": [
            "i do also wonder if this shopping was from. tesco express in which items cost more than a tesco extra or metro. i welcome being proved wrong but there are definitely some big ticket items that have bumped up the cost.\n",
            "hmm blender tsuru tuneado nfs pepega mod speedrunning tesco game i guess that's all i remember that's not complete\n",
            "sue leach in york got a top rating on follow &amp; we'll dm the info.\n",
            "they’ve told me why they couldn’t tell i wasn’t a pig. firstly the actor thought i worked in tesco so everyone pretended i was. secondly they bred me like a pig in the rejection rape so they could have skids with someone else\n",
            "where do you suggest? the end of clacton pier or the car park at pitsea tesco?\n"
          ]
        }
      ]
    },
    {
      "cell_type": "code",
      "source": [
        "print(Tesco_Tweets[Tesco_Tweets.classification3 == 'Subjective'].reset_index()['tweet'][600])\n",
        "print(Tesco_Tweets[Tesco_Tweets.classification3 == 'Subjective'].reset_index()['tweet'][700])\n",
        "print(Tesco_Tweets[Tesco_Tweets.classification3 == 'Subjective'].reset_index()['tweet'][800])\n",
        "print(Tesco_Tweets[Tesco_Tweets.classification3 == 'Subjective'].reset_index()['tweet'][900])\n",
        "print(Tesco_Tweets[Tesco_Tweets.classification3 == 'Subjective'].reset_index()['tweet'][1000])"
      ],
      "metadata": {
        "colab": {
          "base_uri": "https://localhost:8080/"
        },
        "id": "zxOQG9EwiWtC",
        "outputId": "ad85eb04-f032-49fc-b5e6-fa89f6e078b2"
      },
      "execution_count": 55,
      "outputs": [
        {
          "output_type": "stream",
          "name": "stdout",
          "text": [
            "why don’t you offer bbqs on mothering sunday? don’t you know women do all the cooking (according to uour gender playbook)?plus, i’d prefer one to a boring, smelly old candle.\n",
            "sorry guys, not walking round tesco for 4 hours. maybe for a playoff game.\n",
            "don't miss out on this intimate setting of unit 44;where ben prevo is filling the air with fabulous music. you can join in too and play or sing a few tunes 🎶 this is s very lovely chilled out eve. unit 44 - park shopping centre, prussia st where tesco's is. it's next to pieces.\n",
            "hi alexia, i'm sorry to hear about the issue with your order. can you please send us a dm with your full name, address and email address? i look forward to hearing from you. thanks - jordan\n",
            "don’t care + you mans play non league football. focus on getting a good football club rather than tweeting about tesco\n"
          ]
        }
      ]
    },
    {
      "cell_type": "code",
      "source": [
        "pd.crosstab(Tesco_Tweets['classification'], Tesco_Tweets['classification3'])"
      ],
      "metadata": {
        "colab": {
          "base_uri": "https://localhost:8080/",
          "height": 175
        },
        "id": "DoQldtTbo4Bd",
        "outputId": "4df7f3ef-a5b3-4858-efe7-269b6e99899f"
      },
      "execution_count": 56,
      "outputs": [
        {
          "output_type": "execute_result",
          "data": {
            "text/plain": [
              "classification3  Objective  Subjective\n",
              "classification                        \n",
              "negative              1802        1751\n",
              "neutral               7777         659\n",
              "positive              4091        3602"
            ],
            "text/html": [
              "\n",
              "  <div id=\"df-9c905ba7-61f3-4ba4-9556-9a26fa28eb6a\">\n",
              "    <div class=\"colab-df-container\">\n",
              "      <div>\n",
              "<style scoped>\n",
              "    .dataframe tbody tr th:only-of-type {\n",
              "        vertical-align: middle;\n",
              "    }\n",
              "\n",
              "    .dataframe tbody tr th {\n",
              "        vertical-align: top;\n",
              "    }\n",
              "\n",
              "    .dataframe thead th {\n",
              "        text-align: right;\n",
              "    }\n",
              "</style>\n",
              "<table border=\"1\" class=\"dataframe\">\n",
              "  <thead>\n",
              "    <tr style=\"text-align: right;\">\n",
              "      <th>classification3</th>\n",
              "      <th>Objective</th>\n",
              "      <th>Subjective</th>\n",
              "    </tr>\n",
              "    <tr>\n",
              "      <th>classification</th>\n",
              "      <th></th>\n",
              "      <th></th>\n",
              "    </tr>\n",
              "  </thead>\n",
              "  <tbody>\n",
              "    <tr>\n",
              "      <th>negative</th>\n",
              "      <td>1802</td>\n",
              "      <td>1751</td>\n",
              "    </tr>\n",
              "    <tr>\n",
              "      <th>neutral</th>\n",
              "      <td>7777</td>\n",
              "      <td>659</td>\n",
              "    </tr>\n",
              "    <tr>\n",
              "      <th>positive</th>\n",
              "      <td>4091</td>\n",
              "      <td>3602</td>\n",
              "    </tr>\n",
              "  </tbody>\n",
              "</table>\n",
              "</div>\n",
              "      <button class=\"colab-df-convert\" onclick=\"convertToInteractive('df-9c905ba7-61f3-4ba4-9556-9a26fa28eb6a')\"\n",
              "              title=\"Convert this dataframe to an interactive table.\"\n",
              "              style=\"display:none;\">\n",
              "        \n",
              "  <svg xmlns=\"http://www.w3.org/2000/svg\" height=\"24px\"viewBox=\"0 0 24 24\"\n",
              "       width=\"24px\">\n",
              "    <path d=\"M0 0h24v24H0V0z\" fill=\"none\"/>\n",
              "    <path d=\"M18.56 5.44l.94 2.06.94-2.06 2.06-.94-2.06-.94-.94-2.06-.94 2.06-2.06.94zm-11 1L8.5 8.5l.94-2.06 2.06-.94-2.06-.94L8.5 2.5l-.94 2.06-2.06.94zm10 10l.94 2.06.94-2.06 2.06-.94-2.06-.94-.94-2.06-.94 2.06-2.06.94z\"/><path d=\"M17.41 7.96l-1.37-1.37c-.4-.4-.92-.59-1.43-.59-.52 0-1.04.2-1.43.59L10.3 9.45l-7.72 7.72c-.78.78-.78 2.05 0 2.83L4 21.41c.39.39.9.59 1.41.59.51 0 1.02-.2 1.41-.59l7.78-7.78 2.81-2.81c.8-.78.8-2.07 0-2.86zM5.41 20L4 18.59l7.72-7.72 1.47 1.35L5.41 20z\"/>\n",
              "  </svg>\n",
              "      </button>\n",
              "      \n",
              "  <style>\n",
              "    .colab-df-container {\n",
              "      display:flex;\n",
              "      flex-wrap:wrap;\n",
              "      gap: 12px;\n",
              "    }\n",
              "\n",
              "    .colab-df-convert {\n",
              "      background-color: #E8F0FE;\n",
              "      border: none;\n",
              "      border-radius: 50%;\n",
              "      cursor: pointer;\n",
              "      display: none;\n",
              "      fill: #1967D2;\n",
              "      height: 32px;\n",
              "      padding: 0 0 0 0;\n",
              "      width: 32px;\n",
              "    }\n",
              "\n",
              "    .colab-df-convert:hover {\n",
              "      background-color: #E2EBFA;\n",
              "      box-shadow: 0px 1px 2px rgba(60, 64, 67, 0.3), 0px 1px 3px 1px rgba(60, 64, 67, 0.15);\n",
              "      fill: #174EA6;\n",
              "    }\n",
              "\n",
              "    [theme=dark] .colab-df-convert {\n",
              "      background-color: #3B4455;\n",
              "      fill: #D2E3FC;\n",
              "    }\n",
              "\n",
              "    [theme=dark] .colab-df-convert:hover {\n",
              "      background-color: #434B5C;\n",
              "      box-shadow: 0px 1px 3px 1px rgba(0, 0, 0, 0.15);\n",
              "      filter: drop-shadow(0px 1px 2px rgba(0, 0, 0, 0.3));\n",
              "      fill: #FFFFFF;\n",
              "    }\n",
              "  </style>\n",
              "\n",
              "      <script>\n",
              "        const buttonEl =\n",
              "          document.querySelector('#df-9c905ba7-61f3-4ba4-9556-9a26fa28eb6a button.colab-df-convert');\n",
              "        buttonEl.style.display =\n",
              "          google.colab.kernel.accessAllowed ? 'block' : 'none';\n",
              "\n",
              "        async function convertToInteractive(key) {\n",
              "          const element = document.querySelector('#df-9c905ba7-61f3-4ba4-9556-9a26fa28eb6a');\n",
              "          const dataTable =\n",
              "            await google.colab.kernel.invokeFunction('convertToInteractive',\n",
              "                                                     [key], {});\n",
              "          if (!dataTable) return;\n",
              "\n",
              "          const docLinkHtml = 'Like what you see? Visit the ' +\n",
              "            '<a target=\"_blank\" href=https://colab.research.google.com/notebooks/data_table.ipynb>data table notebook</a>'\n",
              "            + ' to learn more about interactive tables.';\n",
              "          element.innerHTML = '';\n",
              "          dataTable['output_type'] = 'display_data';\n",
              "          await google.colab.output.renderOutput(dataTable, element);\n",
              "          const docLink = document.createElement('div');\n",
              "          docLink.innerHTML = docLinkHtml;\n",
              "          element.appendChild(docLink);\n",
              "        }\n",
              "      </script>\n",
              "    </div>\n",
              "  </div>\n",
              "  "
            ]
          },
          "metadata": {},
          "execution_count": 56
        }
      ]
    },
    {
      "cell_type": "code",
      "source": [
        "pd.crosstab(Tesco_Tweets['classification2'], Tesco_Tweets['classification3'])"
      ],
      "metadata": {
        "colab": {
          "base_uri": "https://localhost:8080/",
          "height": 175
        },
        "id": "yMJGw5b2o4wr",
        "outputId": "5873a34a-6b58-4df1-c68f-d364d7b414f1"
      },
      "execution_count": 57,
      "outputs": [
        {
          "output_type": "execute_result",
          "data": {
            "text/plain": [
              "classification3  Objective  Subjective\n",
              "classification2                       \n",
              "negative              2793        1778\n",
              "neutral               5905         713\n",
              "positive              4972        3521"
            ],
            "text/html": [
              "\n",
              "  <div id=\"df-93ba73a9-faed-4fe0-b5d8-b5000756fb34\">\n",
              "    <div class=\"colab-df-container\">\n",
              "      <div>\n",
              "<style scoped>\n",
              "    .dataframe tbody tr th:only-of-type {\n",
              "        vertical-align: middle;\n",
              "    }\n",
              "\n",
              "    .dataframe tbody tr th {\n",
              "        vertical-align: top;\n",
              "    }\n",
              "\n",
              "    .dataframe thead th {\n",
              "        text-align: right;\n",
              "    }\n",
              "</style>\n",
              "<table border=\"1\" class=\"dataframe\">\n",
              "  <thead>\n",
              "    <tr style=\"text-align: right;\">\n",
              "      <th>classification3</th>\n",
              "      <th>Objective</th>\n",
              "      <th>Subjective</th>\n",
              "    </tr>\n",
              "    <tr>\n",
              "      <th>classification2</th>\n",
              "      <th></th>\n",
              "      <th></th>\n",
              "    </tr>\n",
              "  </thead>\n",
              "  <tbody>\n",
              "    <tr>\n",
              "      <th>negative</th>\n",
              "      <td>2793</td>\n",
              "      <td>1778</td>\n",
              "    </tr>\n",
              "    <tr>\n",
              "      <th>neutral</th>\n",
              "      <td>5905</td>\n",
              "      <td>713</td>\n",
              "    </tr>\n",
              "    <tr>\n",
              "      <th>positive</th>\n",
              "      <td>4972</td>\n",
              "      <td>3521</td>\n",
              "    </tr>\n",
              "  </tbody>\n",
              "</table>\n",
              "</div>\n",
              "      <button class=\"colab-df-convert\" onclick=\"convertToInteractive('df-93ba73a9-faed-4fe0-b5d8-b5000756fb34')\"\n",
              "              title=\"Convert this dataframe to an interactive table.\"\n",
              "              style=\"display:none;\">\n",
              "        \n",
              "  <svg xmlns=\"http://www.w3.org/2000/svg\" height=\"24px\"viewBox=\"0 0 24 24\"\n",
              "       width=\"24px\">\n",
              "    <path d=\"M0 0h24v24H0V0z\" fill=\"none\"/>\n",
              "    <path d=\"M18.56 5.44l.94 2.06.94-2.06 2.06-.94-2.06-.94-.94-2.06-.94 2.06-2.06.94zm-11 1L8.5 8.5l.94-2.06 2.06-.94-2.06-.94L8.5 2.5l-.94 2.06-2.06.94zm10 10l.94 2.06.94-2.06 2.06-.94-2.06-.94-.94-2.06-.94 2.06-2.06.94z\"/><path d=\"M17.41 7.96l-1.37-1.37c-.4-.4-.92-.59-1.43-.59-.52 0-1.04.2-1.43.59L10.3 9.45l-7.72 7.72c-.78.78-.78 2.05 0 2.83L4 21.41c.39.39.9.59 1.41.59.51 0 1.02-.2 1.41-.59l7.78-7.78 2.81-2.81c.8-.78.8-2.07 0-2.86zM5.41 20L4 18.59l7.72-7.72 1.47 1.35L5.41 20z\"/>\n",
              "  </svg>\n",
              "      </button>\n",
              "      \n",
              "  <style>\n",
              "    .colab-df-container {\n",
              "      display:flex;\n",
              "      flex-wrap:wrap;\n",
              "      gap: 12px;\n",
              "    }\n",
              "\n",
              "    .colab-df-convert {\n",
              "      background-color: #E8F0FE;\n",
              "      border: none;\n",
              "      border-radius: 50%;\n",
              "      cursor: pointer;\n",
              "      display: none;\n",
              "      fill: #1967D2;\n",
              "      height: 32px;\n",
              "      padding: 0 0 0 0;\n",
              "      width: 32px;\n",
              "    }\n",
              "\n",
              "    .colab-df-convert:hover {\n",
              "      background-color: #E2EBFA;\n",
              "      box-shadow: 0px 1px 2px rgba(60, 64, 67, 0.3), 0px 1px 3px 1px rgba(60, 64, 67, 0.15);\n",
              "      fill: #174EA6;\n",
              "    }\n",
              "\n",
              "    [theme=dark] .colab-df-convert {\n",
              "      background-color: #3B4455;\n",
              "      fill: #D2E3FC;\n",
              "    }\n",
              "\n",
              "    [theme=dark] .colab-df-convert:hover {\n",
              "      background-color: #434B5C;\n",
              "      box-shadow: 0px 1px 3px 1px rgba(0, 0, 0, 0.15);\n",
              "      filter: drop-shadow(0px 1px 2px rgba(0, 0, 0, 0.3));\n",
              "      fill: #FFFFFF;\n",
              "    }\n",
              "  </style>\n",
              "\n",
              "      <script>\n",
              "        const buttonEl =\n",
              "          document.querySelector('#df-93ba73a9-faed-4fe0-b5d8-b5000756fb34 button.colab-df-convert');\n",
              "        buttonEl.style.display =\n",
              "          google.colab.kernel.accessAllowed ? 'block' : 'none';\n",
              "\n",
              "        async function convertToInteractive(key) {\n",
              "          const element = document.querySelector('#df-93ba73a9-faed-4fe0-b5d8-b5000756fb34');\n",
              "          const dataTable =\n",
              "            await google.colab.kernel.invokeFunction('convertToInteractive',\n",
              "                                                     [key], {});\n",
              "          if (!dataTable) return;\n",
              "\n",
              "          const docLinkHtml = 'Like what you see? Visit the ' +\n",
              "            '<a target=\"_blank\" href=https://colab.research.google.com/notebooks/data_table.ipynb>data table notebook</a>'\n",
              "            + ' to learn more about interactive tables.';\n",
              "          element.innerHTML = '';\n",
              "          dataTable['output_type'] = 'display_data';\n",
              "          await google.colab.output.renderOutput(dataTable, element);\n",
              "          const docLink = document.createElement('div');\n",
              "          docLink.innerHTML = docLinkHtml;\n",
              "          element.appendChild(docLink);\n",
              "        }\n",
              "      </script>\n",
              "    </div>\n",
              "  </div>\n",
              "  "
            ]
          },
          "metadata": {},
          "execution_count": 57
        }
      ]
    },
    {
      "cell_type": "code",
      "source": [
        "pd.crosstab(Tesco_Tweets['classification3'], Tesco_Tweets['classification'])"
      ],
      "metadata": {
        "colab": {
          "base_uri": "https://localhost:8080/",
          "height": 144
        },
        "id": "mhRTBPR-gK4W",
        "outputId": "61bd15a5-2057-4576-dc77-3a9813cca493"
      },
      "execution_count": 58,
      "outputs": [
        {
          "output_type": "execute_result",
          "data": {
            "text/plain": [
              "classification   negative  neutral  positive\n",
              "classification3                             \n",
              "Objective            1802     7777      4091\n",
              "Subjective           1751      659      3602"
            ],
            "text/html": [
              "\n",
              "  <div id=\"df-e9593620-a42a-41ab-9967-8938960bdc68\">\n",
              "    <div class=\"colab-df-container\">\n",
              "      <div>\n",
              "<style scoped>\n",
              "    .dataframe tbody tr th:only-of-type {\n",
              "        vertical-align: middle;\n",
              "    }\n",
              "\n",
              "    .dataframe tbody tr th {\n",
              "        vertical-align: top;\n",
              "    }\n",
              "\n",
              "    .dataframe thead th {\n",
              "        text-align: right;\n",
              "    }\n",
              "</style>\n",
              "<table border=\"1\" class=\"dataframe\">\n",
              "  <thead>\n",
              "    <tr style=\"text-align: right;\">\n",
              "      <th>classification</th>\n",
              "      <th>negative</th>\n",
              "      <th>neutral</th>\n",
              "      <th>positive</th>\n",
              "    </tr>\n",
              "    <tr>\n",
              "      <th>classification3</th>\n",
              "      <th></th>\n",
              "      <th></th>\n",
              "      <th></th>\n",
              "    </tr>\n",
              "  </thead>\n",
              "  <tbody>\n",
              "    <tr>\n",
              "      <th>Objective</th>\n",
              "      <td>1802</td>\n",
              "      <td>7777</td>\n",
              "      <td>4091</td>\n",
              "    </tr>\n",
              "    <tr>\n",
              "      <th>Subjective</th>\n",
              "      <td>1751</td>\n",
              "      <td>659</td>\n",
              "      <td>3602</td>\n",
              "    </tr>\n",
              "  </tbody>\n",
              "</table>\n",
              "</div>\n",
              "      <button class=\"colab-df-convert\" onclick=\"convertToInteractive('df-e9593620-a42a-41ab-9967-8938960bdc68')\"\n",
              "              title=\"Convert this dataframe to an interactive table.\"\n",
              "              style=\"display:none;\">\n",
              "        \n",
              "  <svg xmlns=\"http://www.w3.org/2000/svg\" height=\"24px\"viewBox=\"0 0 24 24\"\n",
              "       width=\"24px\">\n",
              "    <path d=\"M0 0h24v24H0V0z\" fill=\"none\"/>\n",
              "    <path d=\"M18.56 5.44l.94 2.06.94-2.06 2.06-.94-2.06-.94-.94-2.06-.94 2.06-2.06.94zm-11 1L8.5 8.5l.94-2.06 2.06-.94-2.06-.94L8.5 2.5l-.94 2.06-2.06.94zm10 10l.94 2.06.94-2.06 2.06-.94-2.06-.94-.94-2.06-.94 2.06-2.06.94z\"/><path d=\"M17.41 7.96l-1.37-1.37c-.4-.4-.92-.59-1.43-.59-.52 0-1.04.2-1.43.59L10.3 9.45l-7.72 7.72c-.78.78-.78 2.05 0 2.83L4 21.41c.39.39.9.59 1.41.59.51 0 1.02-.2 1.41-.59l7.78-7.78 2.81-2.81c.8-.78.8-2.07 0-2.86zM5.41 20L4 18.59l7.72-7.72 1.47 1.35L5.41 20z\"/>\n",
              "  </svg>\n",
              "      </button>\n",
              "      \n",
              "  <style>\n",
              "    .colab-df-container {\n",
              "      display:flex;\n",
              "      flex-wrap:wrap;\n",
              "      gap: 12px;\n",
              "    }\n",
              "\n",
              "    .colab-df-convert {\n",
              "      background-color: #E8F0FE;\n",
              "      border: none;\n",
              "      border-radius: 50%;\n",
              "      cursor: pointer;\n",
              "      display: none;\n",
              "      fill: #1967D2;\n",
              "      height: 32px;\n",
              "      padding: 0 0 0 0;\n",
              "      width: 32px;\n",
              "    }\n",
              "\n",
              "    .colab-df-convert:hover {\n",
              "      background-color: #E2EBFA;\n",
              "      box-shadow: 0px 1px 2px rgba(60, 64, 67, 0.3), 0px 1px 3px 1px rgba(60, 64, 67, 0.15);\n",
              "      fill: #174EA6;\n",
              "    }\n",
              "\n",
              "    [theme=dark] .colab-df-convert {\n",
              "      background-color: #3B4455;\n",
              "      fill: #D2E3FC;\n",
              "    }\n",
              "\n",
              "    [theme=dark] .colab-df-convert:hover {\n",
              "      background-color: #434B5C;\n",
              "      box-shadow: 0px 1px 3px 1px rgba(0, 0, 0, 0.15);\n",
              "      filter: drop-shadow(0px 1px 2px rgba(0, 0, 0, 0.3));\n",
              "      fill: #FFFFFF;\n",
              "    }\n",
              "  </style>\n",
              "\n",
              "      <script>\n",
              "        const buttonEl =\n",
              "          document.querySelector('#df-e9593620-a42a-41ab-9967-8938960bdc68 button.colab-df-convert');\n",
              "        buttonEl.style.display =\n",
              "          google.colab.kernel.accessAllowed ? 'block' : 'none';\n",
              "\n",
              "        async function convertToInteractive(key) {\n",
              "          const element = document.querySelector('#df-e9593620-a42a-41ab-9967-8938960bdc68');\n",
              "          const dataTable =\n",
              "            await google.colab.kernel.invokeFunction('convertToInteractive',\n",
              "                                                     [key], {});\n",
              "          if (!dataTable) return;\n",
              "\n",
              "          const docLinkHtml = 'Like what you see? Visit the ' +\n",
              "            '<a target=\"_blank\" href=https://colab.research.google.com/notebooks/data_table.ipynb>data table notebook</a>'\n",
              "            + ' to learn more about interactive tables.';\n",
              "          element.innerHTML = '';\n",
              "          dataTable['output_type'] = 'display_data';\n",
              "          await google.colab.output.renderOutput(dataTable, element);\n",
              "          const docLink = document.createElement('div');\n",
              "          docLink.innerHTML = docLinkHtml;\n",
              "          element.appendChild(docLink);\n",
              "        }\n",
              "      </script>\n",
              "    </div>\n",
              "  </div>\n",
              "  "
            ]
          },
          "metadata": {},
          "execution_count": 58
        }
      ]
    },
    {
      "cell_type": "code",
      "source": [
        ""
      ],
      "metadata": {
        "id": "6Saaa7rks0sR"
      },
      "execution_count": 58,
      "outputs": []
    }
  ]
}